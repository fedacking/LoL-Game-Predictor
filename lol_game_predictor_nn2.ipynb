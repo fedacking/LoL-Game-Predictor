{
 "cells": [
  {
   "cell_type": "code",
   "execution_count": 1,
   "outputs": [],
   "source": [
    "import pandas as pd\n",
    "import tensorflow as tf\n",
    "from tensorflow import keras\n",
    "from tensorflow.keras import layers\n",
    "import numpy as np"
   ],
   "metadata": {
    "collapsed": false,
    "pycharm": {
     "name": "#%%\n"
    }
   }
  },
  {
   "cell_type": "code",
   "execution_count": 2,
   "outputs": [
    {
     "name": "stdout",
     "output_type": "stream",
     "text": [
      "Num GPUs Available:  1\n"
     ]
    }
   ],
   "source": [
    "print(\"Num GPUs Available: \", len(tf.config.list_physical_devices('GPU')))"
   ],
   "metadata": {
    "collapsed": false,
    "pycharm": {
     "name": "#%%\n"
    }
   }
  },
  {
   "cell_type": "code",
   "execution_count": 3,
   "outputs": [
    {
     "data": {
      "text/plain": "            label  player_0_w  player_0_l  player_0_co_w  player_0_co_l  \\\ngame_id                                                                   \n548809662       0         216         181            145             91   \n4484824702      0         541         503             27             28   \n548810655       1         155         146             20              6   \n6140028214      1         686         645             43             41   \n1351099000      1          31          14             23              8   \n\n            player_0_ct_wr  player_1_w  player_1_l  player_1_co_w  \\\ngame_id                                                             \n548809662           0.5354         174         147              8   \n4484824702          0.5161         160         111              0   \n548810655           0.4879          55          46              0   \n6140028214          0.5082         368         281             17   \n1351099000          0.5043          38          12              2   \n\n            player_1_co_l  ...  player_8_w  player_8_l  player_8_co_w  \\\ngame_id                    ...                                          \n548809662               3  ...         297         284              1   \n4484824702              0  ...         269         202              9   \n548810655               0  ...         186         144             22   \n6140028214             11  ...         234         198             25   \n1351099000              0  ...          17           6              8   \n\n            player_8_co_l  player_8_ct_wr  player_9_w  player_9_l  \\\ngame_id                                                             \n548809662               0          0.5003         941         930   \n4484824702              3          0.4971         988         954   \n548810655              23          0.5088          55          45   \n6140028214             32          0.5197        2090        2035   \n1351099000              3          0.5148         125         103   \n\n            player_9_co_w  player_9_co_l  player_9_ct_wr  \ngame_id                                                   \n548809662              43             35          0.5093  \n4484824702             65             78          0.4948  \n548810655               0              1          0.5229  \n6140028214            390            340          0.5306  \n1351099000              0              0          0.4933  \n\n[5 rows x 51 columns]",
      "text/html": "<div>\n<style scoped>\n    .dataframe tbody tr th:only-of-type {\n        vertical-align: middle;\n    }\n\n    .dataframe tbody tr th {\n        vertical-align: top;\n    }\n\n    .dataframe thead th {\n        text-align: right;\n    }\n</style>\n<table border=\"1\" class=\"dataframe\">\n  <thead>\n    <tr style=\"text-align: right;\">\n      <th></th>\n      <th>label</th>\n      <th>player_0_w</th>\n      <th>player_0_l</th>\n      <th>player_0_co_w</th>\n      <th>player_0_co_l</th>\n      <th>player_0_ct_wr</th>\n      <th>player_1_w</th>\n      <th>player_1_l</th>\n      <th>player_1_co_w</th>\n      <th>player_1_co_l</th>\n      <th>...</th>\n      <th>player_8_w</th>\n      <th>player_8_l</th>\n      <th>player_8_co_w</th>\n      <th>player_8_co_l</th>\n      <th>player_8_ct_wr</th>\n      <th>player_9_w</th>\n      <th>player_9_l</th>\n      <th>player_9_co_w</th>\n      <th>player_9_co_l</th>\n      <th>player_9_ct_wr</th>\n    </tr>\n    <tr>\n      <th>game_id</th>\n      <th></th>\n      <th></th>\n      <th></th>\n      <th></th>\n      <th></th>\n      <th></th>\n      <th></th>\n      <th></th>\n      <th></th>\n      <th></th>\n      <th></th>\n      <th></th>\n      <th></th>\n      <th></th>\n      <th></th>\n      <th></th>\n      <th></th>\n      <th></th>\n      <th></th>\n      <th></th>\n      <th></th>\n    </tr>\n  </thead>\n  <tbody>\n    <tr>\n      <td>548809662</td>\n      <td>0</td>\n      <td>216</td>\n      <td>181</td>\n      <td>145</td>\n      <td>91</td>\n      <td>0.5354</td>\n      <td>174</td>\n      <td>147</td>\n      <td>8</td>\n      <td>3</td>\n      <td>...</td>\n      <td>297</td>\n      <td>284</td>\n      <td>1</td>\n      <td>0</td>\n      <td>0.5003</td>\n      <td>941</td>\n      <td>930</td>\n      <td>43</td>\n      <td>35</td>\n      <td>0.5093</td>\n    </tr>\n    <tr>\n      <td>4484824702</td>\n      <td>0</td>\n      <td>541</td>\n      <td>503</td>\n      <td>27</td>\n      <td>28</td>\n      <td>0.5161</td>\n      <td>160</td>\n      <td>111</td>\n      <td>0</td>\n      <td>0</td>\n      <td>...</td>\n      <td>269</td>\n      <td>202</td>\n      <td>9</td>\n      <td>3</td>\n      <td>0.4971</td>\n      <td>988</td>\n      <td>954</td>\n      <td>65</td>\n      <td>78</td>\n      <td>0.4948</td>\n    </tr>\n    <tr>\n      <td>548810655</td>\n      <td>1</td>\n      <td>155</td>\n      <td>146</td>\n      <td>20</td>\n      <td>6</td>\n      <td>0.4879</td>\n      <td>55</td>\n      <td>46</td>\n      <td>0</td>\n      <td>0</td>\n      <td>...</td>\n      <td>186</td>\n      <td>144</td>\n      <td>22</td>\n      <td>23</td>\n      <td>0.5088</td>\n      <td>55</td>\n      <td>45</td>\n      <td>0</td>\n      <td>1</td>\n      <td>0.5229</td>\n    </tr>\n    <tr>\n      <td>6140028214</td>\n      <td>1</td>\n      <td>686</td>\n      <td>645</td>\n      <td>43</td>\n      <td>41</td>\n      <td>0.5082</td>\n      <td>368</td>\n      <td>281</td>\n      <td>17</td>\n      <td>11</td>\n      <td>...</td>\n      <td>234</td>\n      <td>198</td>\n      <td>25</td>\n      <td>32</td>\n      <td>0.5197</td>\n      <td>2090</td>\n      <td>2035</td>\n      <td>390</td>\n      <td>340</td>\n      <td>0.5306</td>\n    </tr>\n    <tr>\n      <td>1351099000</td>\n      <td>1</td>\n      <td>31</td>\n      <td>14</td>\n      <td>23</td>\n      <td>8</td>\n      <td>0.5043</td>\n      <td>38</td>\n      <td>12</td>\n      <td>2</td>\n      <td>0</td>\n      <td>...</td>\n      <td>17</td>\n      <td>6</td>\n      <td>8</td>\n      <td>3</td>\n      <td>0.5148</td>\n      <td>125</td>\n      <td>103</td>\n      <td>0</td>\n      <td>0</td>\n      <td>0.4933</td>\n    </tr>\n  </tbody>\n</table>\n<p>5 rows × 51 columns</p>\n</div>"
     },
     "execution_count": 3,
     "metadata": {},
     "output_type": "execute_result"
    }
   ],
   "source": [
    "from plug_mongo import get_entries\n",
    "df = pd.DataFrame(get_entries()).drop([\"_id\", \"timestamp\"], axis=1).set_index(\"game_id\")\n",
    "df.head()"
   ],
   "metadata": {
    "collapsed": false,
    "pycharm": {
     "name": "#%%\n"
    }
   }
  },
  {
   "cell_type": "code",
   "execution_count": 5,
   "outputs": [
    {
     "data": {
      "text/plain": "game_id\n548809662     0.043860\n4484824702    0.018164\n548810655     0.014851\n6140028214    0.015379\n1351099000    0.180851\nName: player_0_wr, dtype: float64"
     },
     "execution_count": 5,
     "metadata": {},
     "output_type": "execute_result"
    }
   ],
   "source": [
    "def add_one(column):\n",
    "\treturn df[column].apply(lambda x: x+1)\n",
    "\n",
    "def get_winrate(column):\n",
    "\twin = add_one(column+'_w')\n",
    "\tlos = add_one(column+'_l')\n",
    "\treturn (win / (win + los)).rename(column+\"_wr\").apply(lambda x: x - 0.5)\n",
    "\n",
    "get_winrate('player_0').head()"
   ],
   "metadata": {
    "collapsed": false,
    "pycharm": {
     "name": "#%%\n"
    }
   }
  },
  {
   "cell_type": "code",
   "execution_count": 11,
   "outputs": [
    {
     "data": {
      "text/plain": "            label  player_0_w  player_0_l  player_0_co_w  player_0_co_l  \\\ngame_id                                                                   \n548809662       0    7.761551    7.507795       7.189825       6.523562   \n4484824702      0    9.082149    8.977280       4.807355       4.857981   \n548810655       1    7.285402    7.199672       4.392317       2.807355   \n6140028214      1    9.424166    9.335390       5.459432       5.392317   \n1351099000      1    5.000000    3.906891       4.584963       3.169925   \n\n            player_0_ct_wr  player_1_w  player_1_l  player_1_co_w  \\\ngame_id                                                             \n548809662           0.0354    7.451211    7.209453       3.169925   \n4484824702          0.0161    7.330917    6.807355       0.000000   \n548810655          -0.0121    5.807355    5.554589       0.000000   \n6140028214          0.0082    8.527477    8.139551       4.169925   \n1351099000          0.0043    5.285402    3.700440       1.584963   \n\n            player_1_co_l  ...  player_0_co_wr  player_1_co_wr  \\\ngame_id                    ...                                   \n548809662        2.000000  ...        0.113445        0.192308   \n4484824702       0.000000  ...       -0.008772        0.000000   \n548810655        0.000000  ...        0.250000        0.000000   \n6140028214       3.584963  ...        0.011628        0.100000   \n1351099000       0.000000  ...        0.227273        0.250000   \n\n            player_2_co_wr  player_3_co_wr  player_4_co_wr  player_5_co_wr  \\\ngame_id                                                                      \n548809662         0.289474       -0.017241        0.200000        0.000000   \n4484824702        0.033537        0.227273        0.045763       -0.071429   \n548810655         0.000000       -0.214286       -0.166667        0.000000   \n6140028214        0.264706        0.125000        0.300000        0.142857   \n1351099000       -0.071429        0.000000        0.166667        0.031469   \n\n            player_6_co_wr  player_7_co_wr  player_8_co_wr  player_9_co_wr  \ngame_id                                                                     \n548809662         0.084211        0.166667        0.166667        0.050000  \n4484824702        0.166667        0.049020        0.214286       -0.044828  \n548810655         0.000000        0.000000       -0.010638       -0.166667  \n6140028214        0.027538        0.106383       -0.059322        0.034153  \n1351099000        0.166667        0.000000        0.192308        0.000000  \n\n[5 rows x 71 columns]",
      "text/html": "<div>\n<style scoped>\n    .dataframe tbody tr th:only-of-type {\n        vertical-align: middle;\n    }\n\n    .dataframe tbody tr th {\n        vertical-align: top;\n    }\n\n    .dataframe thead th {\n        text-align: right;\n    }\n</style>\n<table border=\"1\" class=\"dataframe\">\n  <thead>\n    <tr style=\"text-align: right;\">\n      <th></th>\n      <th>label</th>\n      <th>player_0_w</th>\n      <th>player_0_l</th>\n      <th>player_0_co_w</th>\n      <th>player_0_co_l</th>\n      <th>player_0_ct_wr</th>\n      <th>player_1_w</th>\n      <th>player_1_l</th>\n      <th>player_1_co_w</th>\n      <th>player_1_co_l</th>\n      <th>...</th>\n      <th>player_0_co_wr</th>\n      <th>player_1_co_wr</th>\n      <th>player_2_co_wr</th>\n      <th>player_3_co_wr</th>\n      <th>player_4_co_wr</th>\n      <th>player_5_co_wr</th>\n      <th>player_6_co_wr</th>\n      <th>player_7_co_wr</th>\n      <th>player_8_co_wr</th>\n      <th>player_9_co_wr</th>\n    </tr>\n    <tr>\n      <th>game_id</th>\n      <th></th>\n      <th></th>\n      <th></th>\n      <th></th>\n      <th></th>\n      <th></th>\n      <th></th>\n      <th></th>\n      <th></th>\n      <th></th>\n      <th></th>\n      <th></th>\n      <th></th>\n      <th></th>\n      <th></th>\n      <th></th>\n      <th></th>\n      <th></th>\n      <th></th>\n      <th></th>\n      <th></th>\n    </tr>\n  </thead>\n  <tbody>\n    <tr>\n      <td>548809662</td>\n      <td>0</td>\n      <td>7.761551</td>\n      <td>7.507795</td>\n      <td>7.189825</td>\n      <td>6.523562</td>\n      <td>0.0354</td>\n      <td>7.451211</td>\n      <td>7.209453</td>\n      <td>3.169925</td>\n      <td>2.000000</td>\n      <td>...</td>\n      <td>0.113445</td>\n      <td>0.192308</td>\n      <td>0.289474</td>\n      <td>-0.017241</td>\n      <td>0.200000</td>\n      <td>0.000000</td>\n      <td>0.084211</td>\n      <td>0.166667</td>\n      <td>0.166667</td>\n      <td>0.050000</td>\n    </tr>\n    <tr>\n      <td>4484824702</td>\n      <td>0</td>\n      <td>9.082149</td>\n      <td>8.977280</td>\n      <td>4.807355</td>\n      <td>4.857981</td>\n      <td>0.0161</td>\n      <td>7.330917</td>\n      <td>6.807355</td>\n      <td>0.000000</td>\n      <td>0.000000</td>\n      <td>...</td>\n      <td>-0.008772</td>\n      <td>0.000000</td>\n      <td>0.033537</td>\n      <td>0.227273</td>\n      <td>0.045763</td>\n      <td>-0.071429</td>\n      <td>0.166667</td>\n      <td>0.049020</td>\n      <td>0.214286</td>\n      <td>-0.044828</td>\n    </tr>\n    <tr>\n      <td>548810655</td>\n      <td>1</td>\n      <td>7.285402</td>\n      <td>7.199672</td>\n      <td>4.392317</td>\n      <td>2.807355</td>\n      <td>-0.0121</td>\n      <td>5.807355</td>\n      <td>5.554589</td>\n      <td>0.000000</td>\n      <td>0.000000</td>\n      <td>...</td>\n      <td>0.250000</td>\n      <td>0.000000</td>\n      <td>0.000000</td>\n      <td>-0.214286</td>\n      <td>-0.166667</td>\n      <td>0.000000</td>\n      <td>0.000000</td>\n      <td>0.000000</td>\n      <td>-0.010638</td>\n      <td>-0.166667</td>\n    </tr>\n    <tr>\n      <td>6140028214</td>\n      <td>1</td>\n      <td>9.424166</td>\n      <td>9.335390</td>\n      <td>5.459432</td>\n      <td>5.392317</td>\n      <td>0.0082</td>\n      <td>8.527477</td>\n      <td>8.139551</td>\n      <td>4.169925</td>\n      <td>3.584963</td>\n      <td>...</td>\n      <td>0.011628</td>\n      <td>0.100000</td>\n      <td>0.264706</td>\n      <td>0.125000</td>\n      <td>0.300000</td>\n      <td>0.142857</td>\n      <td>0.027538</td>\n      <td>0.106383</td>\n      <td>-0.059322</td>\n      <td>0.034153</td>\n    </tr>\n    <tr>\n      <td>1351099000</td>\n      <td>1</td>\n      <td>5.000000</td>\n      <td>3.906891</td>\n      <td>4.584963</td>\n      <td>3.169925</td>\n      <td>0.0043</td>\n      <td>5.285402</td>\n      <td>3.700440</td>\n      <td>1.584963</td>\n      <td>0.000000</td>\n      <td>...</td>\n      <td>0.227273</td>\n      <td>0.250000</td>\n      <td>-0.071429</td>\n      <td>0.000000</td>\n      <td>0.166667</td>\n      <td>0.031469</td>\n      <td>0.166667</td>\n      <td>0.000000</td>\n      <td>0.192308</td>\n      <td>0.000000</td>\n    </tr>\n  </tbody>\n</table>\n<p>5 rows × 71 columns</p>\n</div>"
     },
     "execution_count": 11,
     "metadata": {},
     "output_type": "execute_result"
    }
   ],
   "source": [
    "result = [df]\n",
    "result.extend([get_winrate(f\"player_{x}\") for x in range(10)])\n",
    "result.extend([get_winrate(f\"player_{x}_co\") for x in range(10)])\n",
    "df_winrates = pd.concat(result, axis=1)\n",
    "for x in range(10):\n",
    "    df_winrates[f\"player_{x}_ct_wr\"] = df_winrates[f\"player_{x}_ct_wr\"].apply(lambda x: x - 0.5)\n",
    "    df_winrates[f\"player_{x}_w\"] = np.log2(df_winrates[f\"player_{x}_w\"].apply(lambda x: x + 1))\n",
    "    df_winrates[f\"player_{x}_l\"] = np.log2(df_winrates[f\"player_{x}_l\"].apply(lambda x: x + 1))\n",
    "    df_winrates[f\"player_{x}_co_w\"] = np.log2(df_winrates[f\"player_{x}_co_w\"].apply(lambda x: x + 1))\n",
    "    df_winrates[f\"player_{x}_co_l\"] = np.log2(df_winrates[f\"player_{x}_co_l\"].apply(lambda x: x + 1))\n",
    "df_winrates.head()"
   ],
   "metadata": {
    "collapsed": false,
    "pycharm": {
     "name": "#%%\n"
    }
   }
  },
  {
   "cell_type": "code",
   "execution_count": 12,
   "outputs": [
    {
     "data": {
      "text/plain": "            label  player_0_w  player_0_l  player_0_co_w  player_0_co_l  \\\ngame_id                                                                   \n550397422       0    5.754888    5.807355       1.000000       0.000000   \n1237347333      1    8.139551    8.027906       2.584963       3.169925   \n1323252065      1    7.888743    7.562242       4.906891       4.087463   \n2626458901      0    5.321928    5.044394       5.169925       4.857981   \n2631536191      1    6.700440    6.321928       5.459432       4.000000   \n\n            player_0_ct_wr  player_1_w  player_1_l  player_1_co_w  \\\ngame_id                                                             \n550397422           0.0017    5.832890    6.022368       1.000000   \n1237347333         -0.0085    6.303781    6.442943       1.000000   \n1323252065          0.0023    8.426265    8.262095       1.000000   \n2626458901          0.0197    6.321928    6.266787       1.584963   \n2631536191          0.0164    6.672425    6.820179       0.000000   \n\n            player_1_co_l  ...  player_0_co_wr  player_1_co_wr  \\\ngame_id                    ...                                   \n550397422        1.584963  ...        0.166667       -0.100000   \n1237347333       2.321928  ...       -0.100000       -0.214286   \n1323252065       0.000000  ...        0.138298        0.166667   \n2626458901       2.000000  ...        0.053846       -0.071429   \n2631536191       0.000000  ...        0.233333        0.000000   \n\n            player_2_co_wr  player_3_co_wr  player_4_co_wr  player_5_co_wr  \\\ngame_id                                                                      \n550397422         0.000000        0.166667        0.000000        0.055556   \n1237347333        0.062500        0.100000        0.076000        0.100000   \n1323252065        0.125000       -0.021739        0.078431        0.166667   \n2626458901        0.071429        0.187500       -0.090909        0.071429   \n2631536191       -0.023810        0.166667        0.100000        0.200000   \n\n            player_6_co_wr  player_7_co_wr  player_8_co_wr  player_9_co_wr  \ngame_id                                                                     \n550397422        -0.250000        0.000000        0.083333        0.000000  \n1237347333        0.300000        0.154971       -0.055556       -0.166667  \n1323252065        0.000000        0.002000       -0.300000        0.121849  \n2626458901        0.166667       -0.166667       -0.166667        0.100000  \n2631536191        0.250000        0.060000        0.000000       -0.071429  \n\n[5 rows x 71 columns]",
      "text/html": "<div>\n<style scoped>\n    .dataframe tbody tr th:only-of-type {\n        vertical-align: middle;\n    }\n\n    .dataframe tbody tr th {\n        vertical-align: top;\n    }\n\n    .dataframe thead th {\n        text-align: right;\n    }\n</style>\n<table border=\"1\" class=\"dataframe\">\n  <thead>\n    <tr style=\"text-align: right;\">\n      <th></th>\n      <th>label</th>\n      <th>player_0_w</th>\n      <th>player_0_l</th>\n      <th>player_0_co_w</th>\n      <th>player_0_co_l</th>\n      <th>player_0_ct_wr</th>\n      <th>player_1_w</th>\n      <th>player_1_l</th>\n      <th>player_1_co_w</th>\n      <th>player_1_co_l</th>\n      <th>...</th>\n      <th>player_0_co_wr</th>\n      <th>player_1_co_wr</th>\n      <th>player_2_co_wr</th>\n      <th>player_3_co_wr</th>\n      <th>player_4_co_wr</th>\n      <th>player_5_co_wr</th>\n      <th>player_6_co_wr</th>\n      <th>player_7_co_wr</th>\n      <th>player_8_co_wr</th>\n      <th>player_9_co_wr</th>\n    </tr>\n    <tr>\n      <th>game_id</th>\n      <th></th>\n      <th></th>\n      <th></th>\n      <th></th>\n      <th></th>\n      <th></th>\n      <th></th>\n      <th></th>\n      <th></th>\n      <th></th>\n      <th></th>\n      <th></th>\n      <th></th>\n      <th></th>\n      <th></th>\n      <th></th>\n      <th></th>\n      <th></th>\n      <th></th>\n      <th></th>\n      <th></th>\n    </tr>\n  </thead>\n  <tbody>\n    <tr>\n      <td>550397422</td>\n      <td>0</td>\n      <td>5.754888</td>\n      <td>5.807355</td>\n      <td>1.000000</td>\n      <td>0.000000</td>\n      <td>0.0017</td>\n      <td>5.832890</td>\n      <td>6.022368</td>\n      <td>1.000000</td>\n      <td>1.584963</td>\n      <td>...</td>\n      <td>0.166667</td>\n      <td>-0.100000</td>\n      <td>0.000000</td>\n      <td>0.166667</td>\n      <td>0.000000</td>\n      <td>0.055556</td>\n      <td>-0.250000</td>\n      <td>0.000000</td>\n      <td>0.083333</td>\n      <td>0.000000</td>\n    </tr>\n    <tr>\n      <td>1237347333</td>\n      <td>1</td>\n      <td>8.139551</td>\n      <td>8.027906</td>\n      <td>2.584963</td>\n      <td>3.169925</td>\n      <td>-0.0085</td>\n      <td>6.303781</td>\n      <td>6.442943</td>\n      <td>1.000000</td>\n      <td>2.321928</td>\n      <td>...</td>\n      <td>-0.100000</td>\n      <td>-0.214286</td>\n      <td>0.062500</td>\n      <td>0.100000</td>\n      <td>0.076000</td>\n      <td>0.100000</td>\n      <td>0.300000</td>\n      <td>0.154971</td>\n      <td>-0.055556</td>\n      <td>-0.166667</td>\n    </tr>\n    <tr>\n      <td>1323252065</td>\n      <td>1</td>\n      <td>7.888743</td>\n      <td>7.562242</td>\n      <td>4.906891</td>\n      <td>4.087463</td>\n      <td>0.0023</td>\n      <td>8.426265</td>\n      <td>8.262095</td>\n      <td>1.000000</td>\n      <td>0.000000</td>\n      <td>...</td>\n      <td>0.138298</td>\n      <td>0.166667</td>\n      <td>0.125000</td>\n      <td>-0.021739</td>\n      <td>0.078431</td>\n      <td>0.166667</td>\n      <td>0.000000</td>\n      <td>0.002000</td>\n      <td>-0.300000</td>\n      <td>0.121849</td>\n    </tr>\n    <tr>\n      <td>2626458901</td>\n      <td>0</td>\n      <td>5.321928</td>\n      <td>5.044394</td>\n      <td>5.169925</td>\n      <td>4.857981</td>\n      <td>0.0197</td>\n      <td>6.321928</td>\n      <td>6.266787</td>\n      <td>1.584963</td>\n      <td>2.000000</td>\n      <td>...</td>\n      <td>0.053846</td>\n      <td>-0.071429</td>\n      <td>0.071429</td>\n      <td>0.187500</td>\n      <td>-0.090909</td>\n      <td>0.071429</td>\n      <td>0.166667</td>\n      <td>-0.166667</td>\n      <td>-0.166667</td>\n      <td>0.100000</td>\n    </tr>\n    <tr>\n      <td>2631536191</td>\n      <td>1</td>\n      <td>6.700440</td>\n      <td>6.321928</td>\n      <td>5.459432</td>\n      <td>4.000000</td>\n      <td>0.0164</td>\n      <td>6.672425</td>\n      <td>6.820179</td>\n      <td>0.000000</td>\n      <td>0.000000</td>\n      <td>...</td>\n      <td>0.233333</td>\n      <td>0.000000</td>\n      <td>-0.023810</td>\n      <td>0.166667</td>\n      <td>0.100000</td>\n      <td>0.200000</td>\n      <td>0.250000</td>\n      <td>0.060000</td>\n      <td>0.000000</td>\n      <td>-0.071429</td>\n    </tr>\n  </tbody>\n</table>\n<p>5 rows × 71 columns</p>\n</div>"
     },
     "execution_count": 12,
     "metadata": {},
     "output_type": "execute_result"
    }
   ],
   "source": [
    "train_dataset = df_winrates.sample(frac=0.8, random_state=0)\n",
    "test_dataset = df_winrates.drop(train_dataset.index)\n",
    "train_dataset.head()"
   ],
   "metadata": {
    "collapsed": false,
    "pycharm": {
     "name": "#%%\n"
    }
   }
  },
  {
   "cell_type": "code",
   "execution_count": 13,
   "outputs": [
    {
     "data": {
      "text/plain": "game_id\n550397422     0\n1237347333    1\n1323252065    1\n2626458901    0\n2631536191    1\nName: label, dtype: int64"
     },
     "execution_count": 13,
     "metadata": {},
     "output_type": "execute_result"
    }
   ],
   "source": [
    "train_features = train_dataset.copy()\n",
    "test_features = test_dataset.copy()\n",
    "\n",
    "train_labels = train_features.pop('label')\n",
    "test_labels = test_features.pop('label')\n",
    "train_labels.head()"
   ],
   "metadata": {
    "collapsed": false,
    "pycharm": {
     "name": "#%%\n"
    }
   }
  },
  {
   "cell_type": "code",
   "execution_count": 14,
   "outputs": [],
   "source": [
    "normalizer = tf.keras.layers.Normalization(axis=-1)\n",
    "normalizer.adapt(train_features)"
   ],
   "metadata": {
    "collapsed": false,
    "pycharm": {
     "name": "#%%\n"
    }
   }
  },
  {
   "cell_type": "code",
   "execution_count": 15,
   "outputs": [],
   "source": [
    "def build_and_compile_model(norm, width, depth, activation='relu'):\n",
    "    layer_l = [norm]\n",
    "    layer_l.extend([layers.Dense(width, activation=activation) for _ in range(depth)])\n",
    "    layer_l.append(layers.Dense(1))\n",
    "    model = keras.Sequential(layer_l)\n",
    "    model.compile(loss='mean_absolute_error',\n",
    "                  optimizer=tf.keras.optimizers.Adam(0.001))\n",
    "    return model"
   ],
   "metadata": {
    "collapsed": false,
    "pycharm": {
     "name": "#%%\n"
    }
   }
  },
  {
   "cell_type": "code",
   "execution_count": 16,
   "outputs": [],
   "source": [
    "early_stop = keras.callbacks.EarlyStopping(patience=5, verbose=0, restore_best_weights=True)\n",
    "activations = [None, 'relu', 'sigmoid', 'softmax', 'softplus', 'softsign', 'tanh', 'selu', 'elu']\n",
    "\n",
    "def test_model(width, depth, activation, verbose=1):\n",
    "    with tf.device(\"GPU:0\"):\n",
    "        model = build_and_compile_model(normalizer, width, depth, activation)\n",
    "        history_return = model.fit(\n",
    "            train_features,\n",
    "            train_labels,\n",
    "            validation_split=0.2,\n",
    "            verbose=verbose, epochs=100,\n",
    "            callbacks = [early_stop]\n",
    "        )\n",
    "    return min(history_return.history['val_loss']), len(history_return.history['val_loss']), model"
   ],
   "metadata": {
    "collapsed": false,
    "pycharm": {
     "name": "#%%\n"
    }
   }
  },
  {
   "cell_type": "code",
   "execution_count": 17,
   "outputs": [],
   "source": [
    "modes = []\n",
    "for x in [35, 70, 140, 280]:\n",
    "    for y in [2, 3, 4, 5, 6, 7, 8]:\n",
    "        for z in ['softsign', 'sigmoid', 'softmax']:\n",
    "            modes.append((x, y, z))\n",
    "results = [(mode, test_model(mode[0], mode[1], mode[2], 0)) for mode in modes]"
   ],
   "metadata": {
    "collapsed": false,
    "pycharm": {
     "name": "#%%\n"
    }
   }
  },
  {
   "cell_type": "code",
   "execution_count": 18,
   "outputs": [
    {
     "data": {
      "text/plain": "[((35, 5, 'softsign'), 0.4512683153152466, 12),\n ((140, 5, 'softsign'), 0.45127061009407043, 15),\n ((70, 7, 'softsign'), 0.4517468214035034, 11),\n ((35, 6, 'softsign'), 0.45199790596961975, 12),\n ((35, 6, 'sigmoid'), 0.45230719447135925, 11),\n ((70, 6, 'sigmoid'), 0.45250430703163147, 16),\n ((140, 7, 'sigmoid'), 0.4529477655887604, 11),\n ((70, 6, 'softsign'), 0.4529983699321747, 29),\n ((140, 5, 'sigmoid'), 0.45438897609710693, 11),\n ((35, 8, 'sigmoid'), 0.4545985758304596, 14),\n ((70, 7, 'sigmoid'), 0.45485538244247437, 11),\n ((35, 4, 'softmax'), 0.45490142703056335, 24),\n ((70, 5, 'sigmoid'), 0.45498475432395935, 13),\n ((140, 3, 'sigmoid'), 0.4551302194595337, 25),\n ((140, 4, 'sigmoid'), 0.45517075061798096, 12),\n ((35, 7, 'sigmoid'), 0.4554622769355774, 16),\n ((35, 4, 'sigmoid'), 0.4555053114891052, 17),\n ((280, 8, 'softsign'), 0.45580723881721497, 8),\n ((280, 3, 'softmax'), 0.4561631381511688, 28),\n ((70, 8, 'softsign'), 0.4561786651611328, 8),\n ((280, 6, 'softsign'), 0.45624446868896484, 22),\n ((70, 4, 'sigmoid'), 0.4563358724117279, 12),\n ((70, 5, 'softsign'), 0.45646530389785767, 10),\n ((280, 6, 'sigmoid'), 0.45653271675109863, 13),\n ((140, 4, 'softsign'), 0.45670172572135925, 11),\n ((35, 5, 'sigmoid'), 0.4570936858654022, 15),\n ((35, 8, 'softsign'), 0.4571041464805603, 8),\n ((280, 4, 'sigmoid'), 0.45736899971961975, 8),\n ((70, 8, 'sigmoid'), 0.4575861096382141, 14),\n ((280, 5, 'sigmoid'), 0.4576698839664459, 9),\n ((140, 6, 'softsign'), 0.4576950967311859, 16),\n ((35, 2, 'softmax'), 0.45814186334609985, 13),\n ((70, 3, 'sigmoid'), 0.4581998586654663, 17),\n ((280, 3, 'sigmoid'), 0.4582538306713104, 15),\n ((35, 3, 'sigmoid'), 0.45842891931533813, 21),\n ((280, 2, 'sigmoid'), 0.45868873596191406, 18),\n ((70, 3, 'softmax'), 0.45887407660484314, 13),\n ((140, 2, 'sigmoid'), 0.4588949680328369, 18),\n ((35, 3, 'softmax'), 0.45901769399642944, 12),\n ((70, 2, 'sigmoid'), 0.4592193067073822, 23),\n ((280, 5, 'softsign'), 0.4595894515514374, 11),\n ((35, 7, 'softsign'), 0.46018844842910767, 8),\n ((35, 4, 'softsign'), 0.46045809984207153, 19),\n ((140, 7, 'softsign'), 0.46049508452415466, 9),\n ((280, 4, 'softsign'), 0.46095696091651917, 16),\n ((280, 2, 'softmax'), 0.46187275648117065, 11),\n ((140, 3, 'softmax'), 0.4619028866291046, 16),\n ((140, 6, 'sigmoid'), 0.46190759539604187, 15),\n ((35, 2, 'sigmoid'), 0.4623740017414093, 31),\n ((140, 8, 'softsign'), 0.4624768793582916, 10),\n ((280, 7, 'softsign'), 0.4629514217376709, 17),\n ((70, 4, 'softsign'), 0.46385565400123596, 11),\n ((70, 2, 'softmax'), 0.4649205207824707, 14),\n ((35, 3, 'softsign'), 0.46637651324272156, 13),\n ((70, 3, 'softsign'), 0.466543585062027, 11),\n ((140, 2, 'softmax'), 0.46799415349960327, 11),\n ((140, 3, 'softsign'), 0.47037041187286377, 8),\n ((70, 2, 'softsign'), 0.47171205282211304, 10),\n ((35, 2, 'softsign'), 0.4720008969306946, 12),\n ((280, 3, 'softsign'), 0.47357994318008423, 12),\n ((280, 2, 'softsign'), 0.47963160276412964, 11),\n ((140, 2, 'softsign'), 0.4806953966617584, 12),\n ((140, 7, 'softmax'), 0.4829089045524597, 20),\n ((35, 5, 'softmax'), 0.48290953040122986, 23),\n ((140, 4, 'softmax'), 0.4829106032848358, 16),\n ((35, 8, 'softmax'), 0.4829111099243164, 10),\n ((140, 6, 'softmax'), 0.4829128682613373, 17),\n ((35, 6, 'softmax'), 0.48291876912117004, 11),\n ((280, 4, 'softmax'), 0.4829195439815521, 16),\n ((280, 5, 'softmax'), 0.48292213678359985, 17),\n ((70, 4, 'softmax'), 0.4829235374927521, 11),\n ((140, 5, 'softmax'), 0.4829261004924774, 21),\n ((35, 7, 'softmax'), 0.48292768001556396, 12),\n ((70, 5, 'softmax'), 0.4829303026199341, 19),\n ((70, 6, 'softmax'), 0.4829317331314087, 13),\n ((280, 8, 'softmax'), 0.48293444514274597, 13),\n ((70, 7, 'softmax'), 0.4829348921775818, 15),\n ((280, 7, 'softmax'), 0.4829465448856354, 11),\n ((280, 6, 'softmax'), 0.4829528331756592, 14),\n ((70, 8, 'softmax'), 0.482954204082489, 12),\n ((140, 8, 'softmax'), 0.482967346906662, 17),\n ((280, 7, 'sigmoid'), 0.4829738140106201, 10),\n ((140, 8, 'sigmoid'), 0.48422423005104065, 13),\n ((280, 8, 'sigmoid'), 0.487215518951416, 7)]"
     },
     "execution_count": 18,
     "metadata": {},
     "output_type": "execute_result"
    }
   ],
   "source": [
    "sorted_results = [(x[0], x[1][0], x[1][1]) for x in sorted(results, key=lambda x: x[1][0])]\n",
    "sorted_results"
   ],
   "metadata": {
    "collapsed": false,
    "pycharm": {
     "name": "#%%\n"
    }
   }
  },
  {
   "cell_type": "code",
   "execution_count": 19,
   "outputs": [
    {
     "name": "stdout",
     "output_type": "stream",
     "text": [
      "Epoch 1/100\n",
      "406/406 [==============================] - 3s 7ms/step - loss: 0.4836 - val_loss: 0.4711\n",
      "Epoch 2/100\n",
      "406/406 [==============================] - 2s 6ms/step - loss: 0.4613 - val_loss: 0.4645\n",
      "Epoch 3/100\n",
      "406/406 [==============================] - 2s 6ms/step - loss: 0.4491 - val_loss: 0.4651\n",
      "Epoch 4/100\n",
      "406/406 [==============================] - 2s 6ms/step - loss: 0.4497 - val_loss: 0.4587\n",
      "Epoch 5/100\n",
      "406/406 [==============================] - 2s 6ms/step - loss: 0.4392 - val_loss: 0.4642\n",
      "Epoch 6/100\n",
      "406/406 [==============================] - 3s 6ms/step - loss: 0.4377 - val_loss: 0.4616\n",
      "Epoch 7/100\n",
      "406/406 [==============================] - 3s 6ms/step - loss: 0.4385 - val_loss: 0.4583\n",
      "Epoch 8/100\n",
      "406/406 [==============================] - 3s 6ms/step - loss: 0.4326 - val_loss: 0.4644\n",
      "Epoch 9/100\n",
      "406/406 [==============================] - 2s 6ms/step - loss: 0.4292 - val_loss: 0.4647\n",
      "Epoch 10/100\n",
      "406/406 [==============================] - 2s 6ms/step - loss: 0.4326 - val_loss: 0.4627\n",
      "Epoch 11/100\n",
      "406/406 [==============================] - 2s 6ms/step - loss: 0.4303 - val_loss: 0.4618\n",
      "Epoch 12/100\n",
      "406/406 [==============================] - 2s 6ms/step - loss: 0.4297 - val_loss: 0.4624\n"
     ]
    },
    {
     "data": {
      "text/plain": "(0.45827582478523254,\n 12,\n <keras.engine.sequential.Sequential at 0x257a61a94c8>)"
     },
     "execution_count": 19,
     "metadata": {},
     "output_type": "execute_result"
    }
   ],
   "source": [
    "test_model(140, 5, 'softsign', 1)"
   ],
   "metadata": {
    "collapsed": false,
    "pycharm": {
     "name": "#%%\n"
    }
   }
  },
  {
   "cell_type": "markdown",
   "source": [],
   "metadata": {
    "collapsed": false,
    "pycharm": {
     "name": "#%% md\n"
    }
   }
  },
  {
   "cell_type": "markdown",
   "source": [],
   "metadata": {
    "collapsed": false,
    "pycharm": {
     "name": "#%% md\n"
    }
   }
  }
 ],
 "metadata": {
  "kernelspec": {
   "display_name": "Python 3",
   "language": "python",
   "name": "python3"
  },
  "language_info": {
   "codemirror_mode": {
    "name": "ipython",
    "version": 2
   },
   "file_extension": ".py",
   "mimetype": "text/x-python",
   "name": "python",
   "nbconvert_exporter": "python",
   "pygments_lexer": "ipython2",
   "version": "2.7.6"
  }
 },
 "nbformat": 4,
 "nbformat_minor": 0
}