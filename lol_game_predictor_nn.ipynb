{
 "cells": [
  {
   "cell_type": "code",
   "execution_count": 1,
   "outputs": [],
   "source": [
    "import pandas as pd\n",
    "import tensorflow as tf\n",
    "from tensorflow import keras\n",
    "from tensorflow.keras import layers\n",
    "import numpy as np"
   ],
   "metadata": {
    "collapsed": false,
    "pycharm": {
     "name": "#%%\n"
    }
   }
  },
  {
   "cell_type": "code",
   "execution_count": 40,
   "outputs": [
    {
     "name": "stdout",
     "output_type": "stream",
     "text": [
      "Num GPUs Available:  1\n"
     ]
    }
   ],
   "source": [
    "print(\"Num GPUs Available: \", len(tf.config.list_physical_devices('GPU')))"
   ],
   "metadata": {
    "collapsed": false,
    "pycharm": {
     "name": "#%%\n"
    }
   }
  },
  {
   "cell_type": "code",
   "execution_count": 3,
   "outputs": [
    {
     "data": {
      "text/plain": "            label  player_0_w  player_0_l  player_0_co_w  player_0_co_l  \\\ngame_id                                                                   \n548809662       0         216         181            145             91   \n4484824702      0         541         503             27             28   \n548810655       1         155         146             20              6   \n6140028214      1         686         645             43             41   \n1351099000      1          31          14             23              8   \n\n            player_0_ct_wr  player_1_w  player_1_l  player_1_co_w  \\\ngame_id                                                             \n548809662           0.5354         174         147              8   \n4484824702          0.5161         160         111              0   \n548810655           0.4879          55          46              0   \n6140028214          0.5082         368         281             17   \n1351099000          0.5043          38          12              2   \n\n            player_1_co_l  ...  player_8_w  player_8_l  player_8_co_w  \\\ngame_id                    ...                                          \n548809662               3  ...         297         284              1   \n4484824702              0  ...         269         202              9   \n548810655               0  ...         186         144             22   \n6140028214             11  ...         234         198             25   \n1351099000              0  ...          17           6              8   \n\n            player_8_co_l  player_8_ct_wr  player_9_w  player_9_l  \\\ngame_id                                                             \n548809662               0          0.5003         941         930   \n4484824702              3          0.4971         988         954   \n548810655              23          0.5088          55          45   \n6140028214             32          0.5197        2090        2035   \n1351099000              3          0.5148         125         103   \n\n            player_9_co_w  player_9_co_l  player_9_ct_wr  \ngame_id                                                   \n548809662              43             35          0.5093  \n4484824702             65             78          0.4948  \n548810655               0              1          0.5229  \n6140028214            390            340          0.5306  \n1351099000              0              0          0.4933  \n\n[5 rows x 51 columns]",
      "text/html": "<div>\n<style scoped>\n    .dataframe tbody tr th:only-of-type {\n        vertical-align: middle;\n    }\n\n    .dataframe tbody tr th {\n        vertical-align: top;\n    }\n\n    .dataframe thead th {\n        text-align: right;\n    }\n</style>\n<table border=\"1\" class=\"dataframe\">\n  <thead>\n    <tr style=\"text-align: right;\">\n      <th></th>\n      <th>label</th>\n      <th>player_0_w</th>\n      <th>player_0_l</th>\n      <th>player_0_co_w</th>\n      <th>player_0_co_l</th>\n      <th>player_0_ct_wr</th>\n      <th>player_1_w</th>\n      <th>player_1_l</th>\n      <th>player_1_co_w</th>\n      <th>player_1_co_l</th>\n      <th>...</th>\n      <th>player_8_w</th>\n      <th>player_8_l</th>\n      <th>player_8_co_w</th>\n      <th>player_8_co_l</th>\n      <th>player_8_ct_wr</th>\n      <th>player_9_w</th>\n      <th>player_9_l</th>\n      <th>player_9_co_w</th>\n      <th>player_9_co_l</th>\n      <th>player_9_ct_wr</th>\n    </tr>\n    <tr>\n      <th>game_id</th>\n      <th></th>\n      <th></th>\n      <th></th>\n      <th></th>\n      <th></th>\n      <th></th>\n      <th></th>\n      <th></th>\n      <th></th>\n      <th></th>\n      <th></th>\n      <th></th>\n      <th></th>\n      <th></th>\n      <th></th>\n      <th></th>\n      <th></th>\n      <th></th>\n      <th></th>\n      <th></th>\n      <th></th>\n    </tr>\n  </thead>\n  <tbody>\n    <tr>\n      <td>548809662</td>\n      <td>0</td>\n      <td>216</td>\n      <td>181</td>\n      <td>145</td>\n      <td>91</td>\n      <td>0.5354</td>\n      <td>174</td>\n      <td>147</td>\n      <td>8</td>\n      <td>3</td>\n      <td>...</td>\n      <td>297</td>\n      <td>284</td>\n      <td>1</td>\n      <td>0</td>\n      <td>0.5003</td>\n      <td>941</td>\n      <td>930</td>\n      <td>43</td>\n      <td>35</td>\n      <td>0.5093</td>\n    </tr>\n    <tr>\n      <td>4484824702</td>\n      <td>0</td>\n      <td>541</td>\n      <td>503</td>\n      <td>27</td>\n      <td>28</td>\n      <td>0.5161</td>\n      <td>160</td>\n      <td>111</td>\n      <td>0</td>\n      <td>0</td>\n      <td>...</td>\n      <td>269</td>\n      <td>202</td>\n      <td>9</td>\n      <td>3</td>\n      <td>0.4971</td>\n      <td>988</td>\n      <td>954</td>\n      <td>65</td>\n      <td>78</td>\n      <td>0.4948</td>\n    </tr>\n    <tr>\n      <td>548810655</td>\n      <td>1</td>\n      <td>155</td>\n      <td>146</td>\n      <td>20</td>\n      <td>6</td>\n      <td>0.4879</td>\n      <td>55</td>\n      <td>46</td>\n      <td>0</td>\n      <td>0</td>\n      <td>...</td>\n      <td>186</td>\n      <td>144</td>\n      <td>22</td>\n      <td>23</td>\n      <td>0.5088</td>\n      <td>55</td>\n      <td>45</td>\n      <td>0</td>\n      <td>1</td>\n      <td>0.5229</td>\n    </tr>\n    <tr>\n      <td>6140028214</td>\n      <td>1</td>\n      <td>686</td>\n      <td>645</td>\n      <td>43</td>\n      <td>41</td>\n      <td>0.5082</td>\n      <td>368</td>\n      <td>281</td>\n      <td>17</td>\n      <td>11</td>\n      <td>...</td>\n      <td>234</td>\n      <td>198</td>\n      <td>25</td>\n      <td>32</td>\n      <td>0.5197</td>\n      <td>2090</td>\n      <td>2035</td>\n      <td>390</td>\n      <td>340</td>\n      <td>0.5306</td>\n    </tr>\n    <tr>\n      <td>1351099000</td>\n      <td>1</td>\n      <td>31</td>\n      <td>14</td>\n      <td>23</td>\n      <td>8</td>\n      <td>0.5043</td>\n      <td>38</td>\n      <td>12</td>\n      <td>2</td>\n      <td>0</td>\n      <td>...</td>\n      <td>17</td>\n      <td>6</td>\n      <td>8</td>\n      <td>3</td>\n      <td>0.5148</td>\n      <td>125</td>\n      <td>103</td>\n      <td>0</td>\n      <td>0</td>\n      <td>0.4933</td>\n    </tr>\n  </tbody>\n</table>\n<p>5 rows × 51 columns</p>\n</div>"
     },
     "execution_count": 3,
     "metadata": {},
     "output_type": "execute_result"
    }
   ],
   "source": [
    "from plug_mongo import get_entries\n",
    "df = pd.DataFrame(get_entries()).drop([\"_id\", \"timestamp\"], axis=1).set_index(\"game_id\")\n",
    "df.head()"
   ],
   "metadata": {
    "collapsed": false,
    "pycharm": {
     "name": "#%%\n"
    }
   }
  },
  {
   "cell_type": "code",
   "execution_count": 7,
   "outputs": [
    {
     "data": {
      "text/plain": "game_id\n548809662     0.543860\n4484824702    0.518164\n548810655     0.514851\n6140028214    0.515379\n1351099000    0.680851\nName: player_0_wr, dtype: float64"
     },
     "execution_count": 7,
     "metadata": {},
     "output_type": "execute_result"
    }
   ],
   "source": [
    "def add_one(column):\n",
    "\treturn df[column].apply(lambda x: x+1)\n",
    "\n",
    "def get_winrate(column):\n",
    "\twin = add_one(column+'_w')\n",
    "\tlos = add_one(column+'_l')\n",
    "\treturn (win / (win + los)).rename(column+\"_wr\")\n",
    "\n",
    "get_winrate('player_0').head()"
   ],
   "metadata": {
    "collapsed": false,
    "pycharm": {
     "name": "#%%\n"
    }
   }
  },
  {
   "cell_type": "code",
   "execution_count": 9,
   "outputs": [
    {
     "data": {
      "text/plain": "            label  player_0_w  player_0_l  player_0_co_w  player_0_co_l  \\\ngame_id                                                                   \n548809662       0         216         181            145             91   \n4484824702      0         541         503             27             28   \n548810655       1         155         146             20              6   \n6140028214      1         686         645             43             41   \n1351099000      1          31          14             23              8   \n\n            player_0_ct_wr  player_1_w  player_1_l  player_1_co_w  \\\ngame_id                                                             \n548809662           0.5354         174         147              8   \n4484824702          0.5161         160         111              0   \n548810655           0.4879          55          46              0   \n6140028214          0.5082         368         281             17   \n1351099000          0.5043          38          12              2   \n\n            player_1_co_l  ...  player_0_co_wr  player_1_co_wr  \\\ngame_id                    ...                                   \n548809662               3  ...        0.613445        0.692308   \n4484824702              0  ...        0.491228        0.500000   \n548810655               0  ...        0.750000        0.500000   \n6140028214             11  ...        0.511628        0.600000   \n1351099000              0  ...        0.727273        0.750000   \n\n            player_2_co_wr  player_3_co_wr  player_4_co_wr  player_5_co_wr  \\\ngame_id                                                                      \n548809662         0.789474        0.482759        0.700000        0.500000   \n4484824702        0.533537        0.727273        0.545763        0.428571   \n548810655         0.500000        0.285714        0.333333        0.500000   \n6140028214        0.764706        0.625000        0.800000        0.642857   \n1351099000        0.428571        0.500000        0.666667        0.531469   \n\n            player_6_co_wr  player_7_co_wr  player_8_co_wr  player_9_co_wr  \ngame_id                                                                     \n548809662         0.584211        0.666667        0.666667        0.550000  \n4484824702        0.666667        0.549020        0.714286        0.455172  \n548810655         0.500000        0.500000        0.489362        0.333333  \n6140028214        0.527538        0.606383        0.440678        0.534153  \n1351099000        0.666667        0.500000        0.692308        0.500000  \n\n[5 rows x 71 columns]",
      "text/html": "<div>\n<style scoped>\n    .dataframe tbody tr th:only-of-type {\n        vertical-align: middle;\n    }\n\n    .dataframe tbody tr th {\n        vertical-align: top;\n    }\n\n    .dataframe thead th {\n        text-align: right;\n    }\n</style>\n<table border=\"1\" class=\"dataframe\">\n  <thead>\n    <tr style=\"text-align: right;\">\n      <th></th>\n      <th>label</th>\n      <th>player_0_w</th>\n      <th>player_0_l</th>\n      <th>player_0_co_w</th>\n      <th>player_0_co_l</th>\n      <th>player_0_ct_wr</th>\n      <th>player_1_w</th>\n      <th>player_1_l</th>\n      <th>player_1_co_w</th>\n      <th>player_1_co_l</th>\n      <th>...</th>\n      <th>player_0_co_wr</th>\n      <th>player_1_co_wr</th>\n      <th>player_2_co_wr</th>\n      <th>player_3_co_wr</th>\n      <th>player_4_co_wr</th>\n      <th>player_5_co_wr</th>\n      <th>player_6_co_wr</th>\n      <th>player_7_co_wr</th>\n      <th>player_8_co_wr</th>\n      <th>player_9_co_wr</th>\n    </tr>\n    <tr>\n      <th>game_id</th>\n      <th></th>\n      <th></th>\n      <th></th>\n      <th></th>\n      <th></th>\n      <th></th>\n      <th></th>\n      <th></th>\n      <th></th>\n      <th></th>\n      <th></th>\n      <th></th>\n      <th></th>\n      <th></th>\n      <th></th>\n      <th></th>\n      <th></th>\n      <th></th>\n      <th></th>\n      <th></th>\n      <th></th>\n    </tr>\n  </thead>\n  <tbody>\n    <tr>\n      <td>548809662</td>\n      <td>0</td>\n      <td>216</td>\n      <td>181</td>\n      <td>145</td>\n      <td>91</td>\n      <td>0.5354</td>\n      <td>174</td>\n      <td>147</td>\n      <td>8</td>\n      <td>3</td>\n      <td>...</td>\n      <td>0.613445</td>\n      <td>0.692308</td>\n      <td>0.789474</td>\n      <td>0.482759</td>\n      <td>0.700000</td>\n      <td>0.500000</td>\n      <td>0.584211</td>\n      <td>0.666667</td>\n      <td>0.666667</td>\n      <td>0.550000</td>\n    </tr>\n    <tr>\n      <td>4484824702</td>\n      <td>0</td>\n      <td>541</td>\n      <td>503</td>\n      <td>27</td>\n      <td>28</td>\n      <td>0.5161</td>\n      <td>160</td>\n      <td>111</td>\n      <td>0</td>\n      <td>0</td>\n      <td>...</td>\n      <td>0.491228</td>\n      <td>0.500000</td>\n      <td>0.533537</td>\n      <td>0.727273</td>\n      <td>0.545763</td>\n      <td>0.428571</td>\n      <td>0.666667</td>\n      <td>0.549020</td>\n      <td>0.714286</td>\n      <td>0.455172</td>\n    </tr>\n    <tr>\n      <td>548810655</td>\n      <td>1</td>\n      <td>155</td>\n      <td>146</td>\n      <td>20</td>\n      <td>6</td>\n      <td>0.4879</td>\n      <td>55</td>\n      <td>46</td>\n      <td>0</td>\n      <td>0</td>\n      <td>...</td>\n      <td>0.750000</td>\n      <td>0.500000</td>\n      <td>0.500000</td>\n      <td>0.285714</td>\n      <td>0.333333</td>\n      <td>0.500000</td>\n      <td>0.500000</td>\n      <td>0.500000</td>\n      <td>0.489362</td>\n      <td>0.333333</td>\n    </tr>\n    <tr>\n      <td>6140028214</td>\n      <td>1</td>\n      <td>686</td>\n      <td>645</td>\n      <td>43</td>\n      <td>41</td>\n      <td>0.5082</td>\n      <td>368</td>\n      <td>281</td>\n      <td>17</td>\n      <td>11</td>\n      <td>...</td>\n      <td>0.511628</td>\n      <td>0.600000</td>\n      <td>0.764706</td>\n      <td>0.625000</td>\n      <td>0.800000</td>\n      <td>0.642857</td>\n      <td>0.527538</td>\n      <td>0.606383</td>\n      <td>0.440678</td>\n      <td>0.534153</td>\n    </tr>\n    <tr>\n      <td>1351099000</td>\n      <td>1</td>\n      <td>31</td>\n      <td>14</td>\n      <td>23</td>\n      <td>8</td>\n      <td>0.5043</td>\n      <td>38</td>\n      <td>12</td>\n      <td>2</td>\n      <td>0</td>\n      <td>...</td>\n      <td>0.727273</td>\n      <td>0.750000</td>\n      <td>0.428571</td>\n      <td>0.500000</td>\n      <td>0.666667</td>\n      <td>0.531469</td>\n      <td>0.666667</td>\n      <td>0.500000</td>\n      <td>0.692308</td>\n      <td>0.500000</td>\n    </tr>\n  </tbody>\n</table>\n<p>5 rows × 71 columns</p>\n</div>"
     },
     "execution_count": 9,
     "metadata": {},
     "output_type": "execute_result"
    }
   ],
   "source": [
    "result = [df]\n",
    "result.extend([get_winrate(f\"player_{x}\") for x in range(10)])\n",
    "result.extend([get_winrate(f\"player_{x}_co\") for x in range(10)])\n",
    "df_winrates = pd.concat(result, axis=1)\n",
    "df_winrates.head()"
   ],
   "metadata": {
    "collapsed": false,
    "pycharm": {
     "name": "#%%\n"
    }
   }
  },
  {
   "cell_type": "code",
   "execution_count": 10,
   "outputs": [
    {
     "data": {
      "text/plain": "            label  player_0_w  player_0_l  player_0_co_w  player_0_co_l  \\\ngame_id                                                                   \n3252704800      0         419         427             29             15   \n4488699054      0         359         316            331            280   \n3254899506      0         201         221              6              8   \n6145685471      0         366         316             19             14   \n1237727628      0         104          85             28             14   \n\n            player_0_ct_wr  player_1_w  player_1_l  player_1_co_w  \\\ngame_id                                                             \n3252704800          0.5127          32          24              2   \n4488699054          0.5298         134         101              2   \n3254899506          0.4836         266         226              1   \n6145685471          0.4927         554         514              8   \n1237727628          0.5012         152         154              3   \n\n            player_1_co_l  ...  player_0_co_wr  player_1_co_wr  \\\ngame_id                    ...                                   \n3252704800              0  ...        0.652174        0.750000   \n4488699054              1  ...        0.541599        0.600000   \n3254899506              1  ...        0.437500        0.500000   \n6145685471             15  ...        0.571429        0.360000   \n1237727628              4  ...        0.659091        0.444444   \n\n            player_2_co_wr  player_3_co_wr  player_4_co_wr  player_5_co_wr  \\\ngame_id                                                                      \n3252704800        0.666667        0.651163        0.750000        0.647059   \n4488699054        0.833333        0.444444        0.500000        0.800000   \n3254899506        0.571429        0.636364        0.750000        0.571429   \n6145685471        0.618182        0.600000        0.666667        0.488372   \n1237727628        0.600000        0.421053        0.567901        0.857143   \n\n            player_6_co_wr  player_7_co_wr  player_8_co_wr  player_9_co_wr  \ngame_id                                                                     \n3252704800        0.594203        0.655738        0.500000        0.500000  \n4488699054        0.513514        0.521739        0.560606        0.454545  \n3254899506        0.583333        0.697674        0.333333        0.500000  \n6145685471        0.429630        0.629213        0.600000        0.555556  \n1237727628        0.600000        0.333333        0.625000        0.384615  \n\n[5 rows x 71 columns]",
      "text/html": "<div>\n<style scoped>\n    .dataframe tbody tr th:only-of-type {\n        vertical-align: middle;\n    }\n\n    .dataframe tbody tr th {\n        vertical-align: top;\n    }\n\n    .dataframe thead th {\n        text-align: right;\n    }\n</style>\n<table border=\"1\" class=\"dataframe\">\n  <thead>\n    <tr style=\"text-align: right;\">\n      <th></th>\n      <th>label</th>\n      <th>player_0_w</th>\n      <th>player_0_l</th>\n      <th>player_0_co_w</th>\n      <th>player_0_co_l</th>\n      <th>player_0_ct_wr</th>\n      <th>player_1_w</th>\n      <th>player_1_l</th>\n      <th>player_1_co_w</th>\n      <th>player_1_co_l</th>\n      <th>...</th>\n      <th>player_0_co_wr</th>\n      <th>player_1_co_wr</th>\n      <th>player_2_co_wr</th>\n      <th>player_3_co_wr</th>\n      <th>player_4_co_wr</th>\n      <th>player_5_co_wr</th>\n      <th>player_6_co_wr</th>\n      <th>player_7_co_wr</th>\n      <th>player_8_co_wr</th>\n      <th>player_9_co_wr</th>\n    </tr>\n    <tr>\n      <th>game_id</th>\n      <th></th>\n      <th></th>\n      <th></th>\n      <th></th>\n      <th></th>\n      <th></th>\n      <th></th>\n      <th></th>\n      <th></th>\n      <th></th>\n      <th></th>\n      <th></th>\n      <th></th>\n      <th></th>\n      <th></th>\n      <th></th>\n      <th></th>\n      <th></th>\n      <th></th>\n      <th></th>\n      <th></th>\n    </tr>\n  </thead>\n  <tbody>\n    <tr>\n      <td>3252704800</td>\n      <td>0</td>\n      <td>419</td>\n      <td>427</td>\n      <td>29</td>\n      <td>15</td>\n      <td>0.5127</td>\n      <td>32</td>\n      <td>24</td>\n      <td>2</td>\n      <td>0</td>\n      <td>...</td>\n      <td>0.652174</td>\n      <td>0.750000</td>\n      <td>0.666667</td>\n      <td>0.651163</td>\n      <td>0.750000</td>\n      <td>0.647059</td>\n      <td>0.594203</td>\n      <td>0.655738</td>\n      <td>0.500000</td>\n      <td>0.500000</td>\n    </tr>\n    <tr>\n      <td>4488699054</td>\n      <td>0</td>\n      <td>359</td>\n      <td>316</td>\n      <td>331</td>\n      <td>280</td>\n      <td>0.5298</td>\n      <td>134</td>\n      <td>101</td>\n      <td>2</td>\n      <td>1</td>\n      <td>...</td>\n      <td>0.541599</td>\n      <td>0.600000</td>\n      <td>0.833333</td>\n      <td>0.444444</td>\n      <td>0.500000</td>\n      <td>0.800000</td>\n      <td>0.513514</td>\n      <td>0.521739</td>\n      <td>0.560606</td>\n      <td>0.454545</td>\n    </tr>\n    <tr>\n      <td>3254899506</td>\n      <td>0</td>\n      <td>201</td>\n      <td>221</td>\n      <td>6</td>\n      <td>8</td>\n      <td>0.4836</td>\n      <td>266</td>\n      <td>226</td>\n      <td>1</td>\n      <td>1</td>\n      <td>...</td>\n      <td>0.437500</td>\n      <td>0.500000</td>\n      <td>0.571429</td>\n      <td>0.636364</td>\n      <td>0.750000</td>\n      <td>0.571429</td>\n      <td>0.583333</td>\n      <td>0.697674</td>\n      <td>0.333333</td>\n      <td>0.500000</td>\n    </tr>\n    <tr>\n      <td>6145685471</td>\n      <td>0</td>\n      <td>366</td>\n      <td>316</td>\n      <td>19</td>\n      <td>14</td>\n      <td>0.4927</td>\n      <td>554</td>\n      <td>514</td>\n      <td>8</td>\n      <td>15</td>\n      <td>...</td>\n      <td>0.571429</td>\n      <td>0.360000</td>\n      <td>0.618182</td>\n      <td>0.600000</td>\n      <td>0.666667</td>\n      <td>0.488372</td>\n      <td>0.429630</td>\n      <td>0.629213</td>\n      <td>0.600000</td>\n      <td>0.555556</td>\n    </tr>\n    <tr>\n      <td>1237727628</td>\n      <td>0</td>\n      <td>104</td>\n      <td>85</td>\n      <td>28</td>\n      <td>14</td>\n      <td>0.5012</td>\n      <td>152</td>\n      <td>154</td>\n      <td>3</td>\n      <td>4</td>\n      <td>...</td>\n      <td>0.659091</td>\n      <td>0.444444</td>\n      <td>0.600000</td>\n      <td>0.421053</td>\n      <td>0.567901</td>\n      <td>0.857143</td>\n      <td>0.600000</td>\n      <td>0.333333</td>\n      <td>0.625000</td>\n      <td>0.384615</td>\n    </tr>\n  </tbody>\n</table>\n<p>5 rows × 71 columns</p>\n</div>"
     },
     "execution_count": 10,
     "metadata": {},
     "output_type": "execute_result"
    }
   ],
   "source": [
    "train_dataset = df_winrates.sample(frac=0.8, random_state=0)\n",
    "test_dataset = df_winrates.drop(train_dataset.index)\n",
    "train_dataset.head()"
   ],
   "metadata": {
    "collapsed": false,
    "pycharm": {
     "name": "#%%\n"
    }
   }
  },
  {
   "cell_type": "code",
   "execution_count": 11,
   "outputs": [
    {
     "data": {
      "text/plain": "game_id\n3252704800    0\n4488699054    0\n3254899506    0\n6145685471    0\n1237727628    0\nName: label, dtype: int64"
     },
     "execution_count": 11,
     "metadata": {},
     "output_type": "execute_result"
    }
   ],
   "source": [
    "train_features = train_dataset.copy()\n",
    "test_features = test_dataset.copy()\n",
    "\n",
    "train_labels = train_features.pop('label')\n",
    "test_labels = test_features.pop('label')\n",
    "train_labels.head()"
   ],
   "metadata": {
    "collapsed": false,
    "pycharm": {
     "name": "#%%\n"
    }
   }
  },
  {
   "cell_type": "code",
   "execution_count": 12,
   "outputs": [],
   "source": [
    "normalizer = tf.keras.layers.Normalization(axis=-1)\n",
    "normalizer.adapt(train_features)"
   ],
   "metadata": {
    "collapsed": false,
    "pycharm": {
     "name": "#%%\n"
    }
   }
  },
  {
   "cell_type": "code",
   "execution_count": 14,
   "outputs": [],
   "source": [
    "def build_and_compile_model(norm, width, depth, activation='relu'):\n",
    "    layer_l = [norm]\n",
    "    layer_l.extend([layers.Dense(width, activation=activation) for _ in range(depth)])\n",
    "    layer_l.append(layers.Dense(1, activation='softmax'))\n",
    "    model = keras.Sequential(layer_l)\n",
    "    model.compile(loss='mean_absolute_error',\n",
    "                  optimizer=tf.keras.optimizers.Adam(0.001))\n",
    "    return model"
   ],
   "metadata": {
    "collapsed": false,
    "pycharm": {
     "name": "#%%\n"
    }
   }
  },
  {
   "cell_type": "code",
   "execution_count": 15,
   "outputs": [
    {
     "name": "stdout",
     "output_type": "stream",
     "text": [
      "Model: \"sequential\"\n",
      "_________________________________________________________________\n",
      " Layer (type)                Output Shape              Param #   \n",
      "=================================================================\n",
      " normalization (Normalizatio  (None, 70)               141       \n",
      " n)                                                              \n",
      "                                                                 \n",
      " dense (Dense)               (None, 64)                4544      \n",
      "                                                                 \n",
      " dense_1 (Dense)             (None, 64)                4160      \n",
      "                                                                 \n",
      " dense_2 (Dense)             (None, 1)                 65        \n",
      "                                                                 \n",
      "=================================================================\n",
      "Total params: 8,910\n",
      "Trainable params: 8,769\n",
      "Non-trainable params: 141\n",
      "_________________________________________________________________\n"
     ]
    }
   ],
   "source": [
    "dnn_model = build_and_compile_model(normalizer, 64, 2)\n",
    "dnn_model.summary()"
   ],
   "metadata": {
    "collapsed": false,
    "pycharm": {
     "name": "#%%\n"
    }
   }
  },
  {
   "cell_type": "code",
   "execution_count": 16,
   "outputs": [
    {
     "name": "stdout",
     "output_type": "stream",
     "text": [
      "Epoch 1/100\n",
      "367/367 [==============================] - 3s 5ms/step - loss: 0.5125 - val_loss: 0.4987\n",
      "Epoch 2/100\n",
      "367/367 [==============================] - 2s 4ms/step - loss: 0.4705 - val_loss: 0.4948\n",
      "Epoch 3/100\n",
      "367/367 [==============================] - 2s 4ms/step - loss: 0.4533 - val_loss: 0.4957\n",
      "Epoch 4/100\n",
      "367/367 [==============================] - 2s 4ms/step - loss: 0.4413 - val_loss: 0.4963\n",
      "Epoch 5/100\n",
      "367/367 [==============================] - 2s 4ms/step - loss: 0.4307 - val_loss: 0.4935\n",
      "Epoch 6/100\n",
      "367/367 [==============================] - 2s 4ms/step - loss: 0.4202 - val_loss: 0.5036\n",
      "Epoch 7/100\n",
      "367/367 [==============================] - 2s 4ms/step - loss: 0.4116 - val_loss: 0.5006\n",
      "Epoch 8/100\n",
      "367/367 [==============================] - 2s 4ms/step - loss: 0.4036 - val_loss: 0.5038\n",
      "Epoch 9/100\n",
      "367/367 [==============================] - 2s 4ms/step - loss: 0.3952 - val_loss: 0.5050\n",
      "Epoch 10/100\n",
      "367/367 [==============================] - 2s 5ms/step - loss: 0.3883 - val_loss: 0.5018\n",
      "Epoch 11/100\n",
      "367/367 [==============================] - 2s 5ms/step - loss: 0.3816 - val_loss: 0.5141\n",
      "Epoch 12/100\n",
      "367/367 [==============================] - 2s 5ms/step - loss: 0.3740 - val_loss: 0.5080\n",
      "Epoch 13/100\n",
      "367/367 [==============================] - 2s 4ms/step - loss: 0.3688 - val_loss: 0.5115\n",
      "Epoch 14/100\n",
      "367/367 [==============================] - 2s 4ms/step - loss: 0.3622 - val_loss: 0.5154\n",
      "Epoch 15/100\n",
      "367/367 [==============================] - 2s 5ms/step - loss: 0.3565 - val_loss: 0.5158\n",
      "Epoch 16/100\n",
      "367/367 [==============================] - 2s 5ms/step - loss: 0.3479 - val_loss: 0.5143\n",
      "Epoch 17/100\n",
      "367/367 [==============================] - 2s 5ms/step - loss: 0.3477 - val_loss: 0.5197\n",
      "Epoch 18/100\n",
      "367/367 [==============================] - 2s 5ms/step - loss: 0.3418 - val_loss: 0.5217\n",
      "Epoch 19/100\n",
      "367/367 [==============================] - 2s 4ms/step - loss: 0.3363 - val_loss: 0.5217\n",
      "Epoch 20/100\n",
      "367/367 [==============================] - 2s 5ms/step - loss: 0.3328 - val_loss: 0.5205\n",
      "Epoch 21/100\n",
      "367/367 [==============================] - 2s 5ms/step - loss: 0.3296 - val_loss: 0.5281\n",
      "Epoch 22/100\n",
      "367/367 [==============================] - 2s 4ms/step - loss: 0.3245 - val_loss: 0.5189\n",
      "Epoch 23/100\n",
      "367/367 [==============================] - 2s 4ms/step - loss: 0.3217 - val_loss: 0.5184\n",
      "Epoch 24/100\n",
      "367/367 [==============================] - 2s 5ms/step - loss: 0.3182 - val_loss: 0.5225\n",
      "Epoch 25/100\n",
      "367/367 [==============================] - 2s 5ms/step - loss: 0.3127 - val_loss: 0.5244\n",
      "Epoch 26/100\n",
      "367/367 [==============================] - 2s 4ms/step - loss: 0.3140 - val_loss: 0.5318\n",
      "Epoch 27/100\n",
      "367/367 [==============================] - 2s 4ms/step - loss: 0.3092 - val_loss: 0.5265\n",
      "Epoch 28/100\n",
      "367/367 [==============================] - 2s 4ms/step - loss: 0.3079 - val_loss: 0.5273\n",
      "Epoch 29/100\n",
      "367/367 [==============================] - 2s 4ms/step - loss: 0.3041 - val_loss: 0.5280\n",
      "Epoch 30/100\n",
      "367/367 [==============================] - 2s 4ms/step - loss: 0.3006 - val_loss: 0.5344\n",
      "Epoch 31/100\n",
      "367/367 [==============================] - 2s 4ms/step - loss: 0.2998 - val_loss: 0.5368\n",
      "Epoch 32/100\n",
      "367/367 [==============================] - 2s 5ms/step - loss: 0.2980 - val_loss: 0.5297\n",
      "Epoch 33/100\n",
      "367/367 [==============================] - 2s 4ms/step - loss: 0.2932 - val_loss: 0.5326\n",
      "Epoch 34/100\n",
      "367/367 [==============================] - 2s 5ms/step - loss: 0.2934 - val_loss: 0.5310\n",
      "Epoch 35/100\n",
      "367/367 [==============================] - 2s 4ms/step - loss: 0.2918 - val_loss: 0.5353\n",
      "Epoch 36/100\n",
      "367/367 [==============================] - 2s 5ms/step - loss: 0.2892 - val_loss: 0.5319\n",
      "Epoch 37/100\n",
      "367/367 [==============================] - 2s 4ms/step - loss: 0.2873 - val_loss: 0.5432\n",
      "Epoch 38/100\n",
      "367/367 [==============================] - 2s 4ms/step - loss: 0.2852 - val_loss: 0.5347\n",
      "Epoch 39/100\n",
      "367/367 [==============================] - 2s 4ms/step - loss: 0.2848 - val_loss: 0.5376\n",
      "Epoch 40/100\n",
      "367/367 [==============================] - 2s 4ms/step - loss: 0.2811 - val_loss: 0.5412\n",
      "Epoch 41/100\n",
      "367/367 [==============================] - 1s 4ms/step - loss: 0.2794 - val_loss: 0.5430\n",
      "Epoch 42/100\n",
      "367/367 [==============================] - 1s 4ms/step - loss: 0.2804 - val_loss: 0.5415\n",
      "Epoch 43/100\n",
      "367/367 [==============================] - 1s 4ms/step - loss: 0.2759 - val_loss: 0.5448\n",
      "Epoch 44/100\n",
      "367/367 [==============================] - 2s 4ms/step - loss: 0.2775 - val_loss: 0.5431\n",
      "Epoch 45/100\n",
      "367/367 [==============================] - 2s 5ms/step - loss: 0.2763 - val_loss: 0.5415\n",
      "Epoch 46/100\n",
      "367/367 [==============================] - 2s 5ms/step - loss: 0.2723 - val_loss: 0.5409\n",
      "Epoch 47/100\n",
      "367/367 [==============================] - 2s 5ms/step - loss: 0.2705 - val_loss: 0.5486\n",
      "Epoch 48/100\n",
      "367/367 [==============================] - 2s 5ms/step - loss: 0.2682 - val_loss: 0.5424\n",
      "Epoch 49/100\n",
      "367/367 [==============================] - 2s 5ms/step - loss: 0.2695 - val_loss: 0.5423\n",
      "Epoch 50/100\n",
      "367/367 [==============================] - 2s 5ms/step - loss: 0.2648 - val_loss: 0.5511\n",
      "Epoch 51/100\n",
      "367/367 [==============================] - 2s 5ms/step - loss: 0.2682 - val_loss: 0.5448\n",
      "Epoch 52/100\n",
      "367/367 [==============================] - 2s 5ms/step - loss: 0.2662 - val_loss: 0.5451\n",
      "Epoch 53/100\n",
      "367/367 [==============================] - 2s 5ms/step - loss: 0.2633 - val_loss: 0.5442\n",
      "Epoch 54/100\n",
      "367/367 [==============================] - 2s 5ms/step - loss: 0.2633 - val_loss: 0.5479\n",
      "Epoch 55/100\n",
      "367/367 [==============================] - 2s 5ms/step - loss: 0.2602 - val_loss: 0.5496\n",
      "Epoch 56/100\n",
      "367/367 [==============================] - 2s 5ms/step - loss: 0.2598 - val_loss: 0.5482\n",
      "Epoch 57/100\n",
      "367/367 [==============================] - 2s 5ms/step - loss: 0.2586 - val_loss: 0.5455\n",
      "Epoch 58/100\n",
      "367/367 [==============================] - 2s 5ms/step - loss: 0.2577 - val_loss: 0.5481\n",
      "Epoch 59/100\n",
      "367/367 [==============================] - 2s 5ms/step - loss: 0.2573 - val_loss: 0.5522\n",
      "Epoch 60/100\n",
      "367/367 [==============================] - 2s 5ms/step - loss: 0.2554 - val_loss: 0.5493\n",
      "Epoch 61/100\n",
      "367/367 [==============================] - 2s 5ms/step - loss: 0.2547 - val_loss: 0.5543\n",
      "Epoch 62/100\n",
      "367/367 [==============================] - 2s 5ms/step - loss: 0.2544 - val_loss: 0.5511\n",
      "Epoch 63/100\n",
      "367/367 [==============================] - 2s 5ms/step - loss: 0.2525 - val_loss: 0.5496\n",
      "Epoch 64/100\n",
      "367/367 [==============================] - 2s 5ms/step - loss: 0.2507 - val_loss: 0.5482\n",
      "Epoch 65/100\n",
      "367/367 [==============================] - 2s 5ms/step - loss: 0.2516 - val_loss: 0.5584\n",
      "Epoch 66/100\n",
      "367/367 [==============================] - 2s 6ms/step - loss: 0.2497 - val_loss: 0.5555\n",
      "Epoch 67/100\n",
      "367/367 [==============================] - 2s 6ms/step - loss: 0.2505 - val_loss: 0.5562\n",
      "Epoch 68/100\n",
      "367/367 [==============================] - 2s 5ms/step - loss: 0.2482 - val_loss: 0.5555\n",
      "Epoch 69/100\n",
      "367/367 [==============================] - 2s 5ms/step - loss: 0.2462 - val_loss: 0.5597\n",
      "Epoch 70/100\n",
      "367/367 [==============================] - 2s 4ms/step - loss: 0.2439 - val_loss: 0.5566\n",
      "Epoch 71/100\n",
      "367/367 [==============================] - 2s 4ms/step - loss: 0.2463 - val_loss: 0.5596\n",
      "Epoch 72/100\n",
      "367/367 [==============================] - 2s 5ms/step - loss: 0.2437 - val_loss: 0.5619\n",
      "Epoch 73/100\n",
      "367/367 [==============================] - 2s 5ms/step - loss: 0.2427 - val_loss: 0.5571\n",
      "Epoch 74/100\n",
      "367/367 [==============================] - 2s 6ms/step - loss: 0.2419 - val_loss: 0.5633\n",
      "Epoch 75/100\n",
      "367/367 [==============================] - 2s 6ms/step - loss: 0.2412 - val_loss: 0.5551\n",
      "Epoch 76/100\n",
      "367/367 [==============================] - 2s 6ms/step - loss: 0.2430 - val_loss: 0.5613\n",
      "Epoch 77/100\n",
      "367/367 [==============================] - 2s 6ms/step - loss: 0.2392 - val_loss: 0.5591\n",
      "Epoch 78/100\n",
      "367/367 [==============================] - 2s 6ms/step - loss: 0.2387 - val_loss: 0.5563\n",
      "Epoch 79/100\n",
      "367/367 [==============================] - 2s 6ms/step - loss: 0.2374 - val_loss: 0.5613\n",
      "Epoch 80/100\n",
      "367/367 [==============================] - 2s 6ms/step - loss: 0.2372 - val_loss: 0.5618\n",
      "Epoch 81/100\n",
      "367/367 [==============================] - 1s 4ms/step - loss: 0.2374 - val_loss: 0.5585\n",
      "Epoch 82/100\n",
      "367/367 [==============================] - 1s 4ms/step - loss: 0.2379 - val_loss: 0.5625\n",
      "Epoch 83/100\n",
      "367/367 [==============================] - 1s 4ms/step - loss: 0.2335 - val_loss: 0.5624\n",
      "Epoch 84/100\n",
      "367/367 [==============================] - 1s 4ms/step - loss: 0.2342 - val_loss: 0.5756\n",
      "Epoch 85/100\n",
      "367/367 [==============================] - 1s 4ms/step - loss: 0.2341 - val_loss: 0.5650\n",
      "Epoch 86/100\n",
      "367/367 [==============================] - 2s 4ms/step - loss: 0.2316 - val_loss: 0.5633\n",
      "Epoch 87/100\n",
      "367/367 [==============================] - 2s 4ms/step - loss: 0.2330 - val_loss: 0.5661\n",
      "Epoch 88/100\n",
      "367/367 [==============================] - 1s 4ms/step - loss: 0.2334 - val_loss: 0.5654\n",
      "Epoch 89/100\n",
      "367/367 [==============================] - 2s 4ms/step - loss: 0.2310 - val_loss: 0.5647\n",
      "Epoch 90/100\n",
      "367/367 [==============================] - 2s 4ms/step - loss: 0.2307 - val_loss: 0.5664\n",
      "Epoch 91/100\n",
      "367/367 [==============================] - 1s 4ms/step - loss: 0.2312 - val_loss: 0.5676\n",
      "Epoch 92/100\n",
      "367/367 [==============================] - 1s 4ms/step - loss: 0.2291 - val_loss: 0.5688\n",
      "Epoch 93/100\n",
      "367/367 [==============================] - 2s 4ms/step - loss: 0.2305 - val_loss: 0.5649\n",
      "Epoch 94/100\n",
      "367/367 [==============================] - 2s 4ms/step - loss: 0.2282 - val_loss: 0.5672\n",
      "Epoch 95/100\n",
      "367/367 [==============================] - 1s 4ms/step - loss: 0.2296 - val_loss: 0.5666\n",
      "Epoch 96/100\n",
      "367/367 [==============================] - 1s 4ms/step - loss: 0.2280 - val_loss: 0.5707\n",
      "Epoch 97/100\n",
      "367/367 [==============================] - 2s 4ms/step - loss: 0.2270 - val_loss: 0.5672\n",
      "Epoch 98/100\n",
      "367/367 [==============================] - 2s 4ms/step - loss: 0.2251 - val_loss: 0.5715\n",
      "Epoch 99/100\n",
      "367/367 [==============================] - 2s 4ms/step - loss: 0.2258 - val_loss: 0.5719\n",
      "Epoch 100/100\n",
      "367/367 [==============================] - 1s 4ms/step - loss: 0.2259 - val_loss: 0.5694\n"
     ]
    }
   ],
   "source": [
    "history = dnn_model.fit(\n",
    "    train_features,\n",
    "    train_labels,\n",
    "    validation_split=0.2,\n",
    "    verbose=1, epochs=100)"
   ],
   "metadata": {
    "collapsed": false,
    "pycharm": {
     "name": "#%%\n"
    }
   }
  },
  {
   "cell_type": "code",
   "execution_count": 59,
   "outputs": [],
   "source": [
    "early_stop = keras.callbacks.EarlyStopping(patience=5, verbose=0, restore_best_weights=True)\n",
    "activations = ['relu', 'sigmoid', 'softmax', 'softplus', 'softsign', 'tanh', 'selu', 'elu']\n",
    "\n",
    "def test_model(width, depth, activation, verbose=1):\n",
    "    with tf.device(\"GPU:0\"):\n",
    "        model = build_and_compile_model(normalizer, width, depth, activation)\n",
    "        history_return = model.fit(\n",
    "            train_features,\n",
    "            train_labels,\n",
    "            validation_split=0.2,\n",
    "            verbose=verbose, epochs=100,\n",
    "            callbacks = [early_stop]\n",
    "        )\n",
    "    return min(history_return.history['val_loss']), len(history_return.history['val_loss']), model"
   ],
   "metadata": {
    "collapsed": false,
    "pycharm": {
     "name": "#%%\n"
    }
   }
  },
  {
   "cell_type": "code",
   "execution_count": 60,
   "outputs": [
    {
     "data": {
      "text/plain": "[('relu',\n  (0.4873979687690735,\n   8,\n   <keras.engine.sequential.Sequential at 0x1dc18f95748>)),\n ('sigmoid',\n  (0.45493367314338684,\n   23,\n   <keras.engine.sequential.Sequential at 0x1da6f8999c8>)),\n ('softmax',\n  (0.452161967754364,\n   23,\n   <keras.engine.sequential.Sequential at 0x1dc0805f0c8>)),\n ('softplus',\n  (0.45976924896240234,\n   24,\n   <keras.engine.sequential.Sequential at 0x1da3e0d1488>)),\n ('softsign',\n  (0.4557131826877594,\n   16,\n   <keras.engine.sequential.Sequential at 0x1dc27d1c348>)),\n ('tanh',\n  (0.46087461709976196,\n   22,\n   <keras.engine.sequential.Sequential at 0x1da6fae0288>)),\n ('selu',\n  (0.4837348461151123,\n   18,\n   <keras.engine.sequential.Sequential at 0x1da3df6b3c8>)),\n ('elu',\n  (0.4750992953777313,\n   10,\n   <keras.engine.sequential.Sequential at 0x1dc07e7e708>)),\n ('exponential',\n  (nan, 5, <keras.engine.sequential.Sequential at 0x1dc07a9f548>))]"
     },
     "execution_count": 60,
     "metadata": {},
     "output_type": "execute_result"
    }
   ],
   "source": [
    "[(act, test_model(18, 4, act, 0)) for act in activations]"
   ],
   "metadata": {
    "collapsed": false,
    "pycharm": {
     "name": "#%%\n"
    }
   }
  },
  {
   "cell_type": "code",
   "execution_count": 61,
   "outputs": [
    {
     "data": {
      "text/plain": "[((18, 1, 'softmax'),\n  (0.465056449174881,\n   17,\n   <keras.engine.sequential.Sequential at 0x1da3e102b08>)),\n ((18, 1, 'sigmoid'),\n  (0.47500383853912354,\n   12,\n   <keras.engine.sequential.Sequential at 0x1dc1f708208>)),\n ((18, 2, 'softmax'),\n  (0.465699702501297,\n   15,\n   <keras.engine.sequential.Sequential at 0x1da3dbae308>)),\n ((18, 2, 'sigmoid'),\n  (0.46220454573631287,\n   29,\n   <keras.engine.sequential.Sequential at 0x1da704563c8>)),\n ((18, 3, 'softmax'),\n  (0.4657261073589325,\n   14,\n   <keras.engine.sequential.Sequential at 0x1dc25576d88>)),\n ((18, 3, 'sigmoid'),\n  (0.4526360034942627,\n   38,\n   <keras.engine.sequential.Sequential at 0x1dc1aa34108>)),\n ((18, 4, 'softmax'),\n  (0.45747554302215576,\n   17,\n   <keras.engine.sequential.Sequential at 0x1dc257fe0c8>)),\n ((18, 4, 'sigmoid'),\n  (0.4574985206127167,\n   19,\n   <keras.engine.sequential.Sequential at 0x1da3dcba608>)),\n ((18, 5, 'softmax'),\n  (0.4622451066970825,\n   19,\n   <keras.engine.sequential.Sequential at 0x1dc2257adc8>)),\n ((18, 5, 'sigmoid'),\n  (0.44905972480773926,\n   28,\n   <keras.engine.sequential.Sequential at 0x1dc224fa3c8>)),\n ((18, 6, 'softmax'),\n  (0.48031893372535706,\n   11,\n   <keras.engine.sequential.Sequential at 0x1dc2786d048>)),\n ((18, 6, 'sigmoid'),\n  (0.4534871578216553,\n   27,\n   <keras.engine.sequential.Sequential at 0x1dc256866c8>)),\n ((35, 1, 'softmax'),\n  (0.4676707088947296,\n   14,\n   <keras.engine.sequential.Sequential at 0x1dc256af388>)),\n ((35, 1, 'sigmoid'),\n  (0.4765532612800598,\n   14,\n   <keras.engine.sequential.Sequential at 0x1dc27b92ac8>)),\n ((35, 2, 'softmax'),\n  (0.46843254566192627,\n   13,\n   <keras.engine.sequential.Sequential at 0x1dc28125948>)),\n ((35, 2, 'sigmoid'),\n  (0.4598122835159302,\n   27,\n   <keras.engine.sequential.Sequential at 0x1dc2e606788>)),\n ((35, 3, 'softmax'),\n  (0.4620630741119385,\n   26,\n   <keras.engine.sequential.Sequential at 0x1dc38527808>)),\n ((35, 3, 'sigmoid'),\n  (0.45343130826950073,\n   33,\n   <keras.engine.sequential.Sequential at 0x1dc38594fc8>)),\n ((35, 4, 'softmax'),\n  (0.45829957723617554,\n   17,\n   <keras.engine.sequential.Sequential at 0x1dc2569eb88>)),\n ((35, 4, 'sigmoid'),\n  (0.44911617040634155,\n   37,\n   <keras.engine.sequential.Sequential at 0x1dc2813f888>)),\n ((35, 5, 'softmax'),\n  (0.48024889826774597,\n   12,\n   <keras.engine.sequential.Sequential at 0x1dc1f144788>)),\n ((35, 5, 'sigmoid'),\n  (0.4535795748233795,\n   15,\n   <keras.engine.sequential.Sequential at 0x1dc1f063dc8>)),\n ((35, 6, 'softmax'),\n  (0.4802597165107727,\n   17,\n   <keras.engine.sequential.Sequential at 0x1dc1f469a48>)),\n ((35, 6, 'sigmoid'),\n  (0.4541226029396057,\n   10,\n   <keras.engine.sequential.Sequential at 0x1dc22074f88>)),\n ((70, 1, 'softmax'),\n  (0.47362256050109863,\n   13,\n   <keras.engine.sequential.Sequential at 0x1dc220a0cc8>)),\n ((70, 1, 'sigmoid'),\n  (0.4782865345478058,\n   8,\n   <keras.engine.sequential.Sequential at 0x1dc2207b308>)),\n ((70, 2, 'softmax'),\n  (0.4689967930316925,\n   12,\n   <keras.engine.sequential.Sequential at 0x1dc280465c8>)),\n ((70, 2, 'sigmoid'),\n  (0.46340686082839966,\n   25,\n   <keras.engine.sequential.Sequential at 0x1dc25394148>)),\n ((70, 3, 'softmax'),\n  (0.46536001563072205,\n   17,\n   <keras.engine.sequential.Sequential at 0x1dc317e9388>)),\n ((70, 3, 'sigmoid'),\n  (0.45114850997924805,\n   29,\n   <keras.engine.sequential.Sequential at 0x1dc31be5d08>)),\n ((70, 4, 'softmax'),\n  (0.48031535744667053,\n   13,\n   <keras.engine.sequential.Sequential at 0x1dc3544c208>)),\n ((70, 4, 'sigmoid'),\n  (0.4420245587825775,\n   27,\n   <keras.engine.sequential.Sequential at 0x1dc35809d88>)),\n ((70, 5, 'softmax'),\n  (0.48026353120803833,\n   12,\n   <keras.engine.sequential.Sequential at 0x1dc35758ac8>)),\n ((70, 5, 'sigmoid'),\n  (0.4532472491264343,\n   17,\n   <keras.engine.sequential.Sequential at 0x1dc3816ba48>)),\n ((70, 6, 'softmax'),\n  (0.4802267253398895,\n   15,\n   <keras.engine.sequential.Sequential at 0x1dc384be688>)),\n ((70, 6, 'sigmoid'),\n  (0.45681726932525635,\n   14,\n   <keras.engine.sequential.Sequential at 0x1dc38418b88>)),\n ((140, 1, 'softmax'),\n  (0.4712844789028168,\n   11,\n   <keras.engine.sequential.Sequential at 0x1dc38442808>)),\n ((140, 1, 'sigmoid'),\n  (0.4781900644302368,\n   8,\n   <keras.engine.sequential.Sequential at 0x1dc31847d48>)),\n ((140, 2, 'softmax'),\n  (0.4685729742050171,\n   12,\n   <keras.engine.sequential.Sequential at 0x1dc257ec908>)),\n ((140, 2, 'sigmoid'),\n  (0.45713675022125244,\n   27,\n   <keras.engine.sequential.Sequential at 0x1dc1f1638c8>)),\n ((140, 3, 'softmax'),\n  (0.46124067902565,\n   25,\n   <keras.engine.sequential.Sequential at 0x1da3da2a688>)),\n ((140, 3, 'sigmoid'),\n  (0.4538414180278778,\n   18,\n   <keras.engine.sequential.Sequential at 0x1dc1f3babc8>)),\n ((140, 4, 'softmax'),\n  (0.4802418649196625,\n   19,\n   <keras.engine.sequential.Sequential at 0x1dc27ebd548>)),\n ((140, 4, 'sigmoid'),\n  (0.457644522190094,\n   18,\n   <keras.engine.sequential.Sequential at 0x1dc2e1d65c8>)),\n ((140, 5, 'softmax'),\n  (0.48023486137390137,\n   11,\n   <keras.engine.sequential.Sequential at 0x1dc2e2c3808>)),\n ((140, 5, 'sigmoid'),\n  (0.4597194194793701,\n   15,\n   <keras.engine.sequential.Sequential at 0x1dc3527de88>)),\n ((140, 6, 'softmax'),\n  (0.4802146553993225,\n   15,\n   <keras.engine.sequential.Sequential at 0x1dc37fe9a48>)),\n ((140, 6, 'sigmoid'),\n  (0.45850351452827454,\n   12,\n   <keras.engine.sequential.Sequential at 0x1dc3e0d7f88>))]"
     },
     "execution_count": 61,
     "metadata": {},
     "output_type": "execute_result"
    }
   ],
   "source": [
    "modes = []\n",
    "for x in [18, 35, 70, 140]:\n",
    "    for y in [1, 2, 3, 4, 5, 6]:\n",
    "        for z in ['softmax', 'sigmoid']:\n",
    "            modes.append((x, y, z))\n",
    "results = [(mode, test_model(mode[0], mode[1], mode[2], 0)) for mode in modes]\n",
    "results"
   ],
   "metadata": {
    "collapsed": false,
    "pycharm": {
     "name": "#%%\n"
    }
   }
  },
  {
   "cell_type": "code",
   "execution_count": 64,
   "outputs": [
    {
     "data": {
      "text/plain": "[(70, 4, 'sigmoid'),\n (18, 5, 'sigmoid'),\n (35, 4, 'sigmoid'),\n (70, 3, 'sigmoid'),\n (18, 3, 'sigmoid'),\n (70, 5, 'sigmoid'),\n (35, 3, 'sigmoid'),\n (18, 6, 'sigmoid'),\n (35, 5, 'sigmoid'),\n (140, 3, 'sigmoid'),\n (35, 6, 'sigmoid'),\n (70, 6, 'sigmoid'),\n (140, 2, 'sigmoid'),\n (18, 4, 'softmax'),\n (18, 4, 'sigmoid'),\n (140, 4, 'sigmoid'),\n (35, 4, 'softmax'),\n (140, 6, 'sigmoid'),\n (140, 5, 'sigmoid'),\n (35, 2, 'sigmoid'),\n (140, 3, 'softmax'),\n (35, 3, 'softmax'),\n (18, 2, 'sigmoid'),\n (18, 5, 'softmax'),\n (70, 2, 'sigmoid'),\n (18, 1, 'softmax'),\n (70, 3, 'softmax'),\n (18, 2, 'softmax'),\n (18, 3, 'softmax'),\n (35, 1, 'softmax'),\n (35, 2, 'softmax'),\n (140, 2, 'softmax'),\n (70, 2, 'softmax'),\n (140, 1, 'softmax'),\n (70, 1, 'softmax'),\n (18, 1, 'sigmoid'),\n (35, 1, 'sigmoid'),\n (140, 1, 'sigmoid'),\n (70, 1, 'sigmoid'),\n (140, 6, 'softmax'),\n (70, 6, 'softmax'),\n (140, 5, 'softmax'),\n (140, 4, 'softmax'),\n (35, 5, 'softmax'),\n (35, 6, 'softmax'),\n (70, 5, 'softmax'),\n (70, 4, 'softmax'),\n (18, 6, 'softmax')]"
     },
     "execution_count": 64,
     "metadata": {},
     "output_type": "execute_result"
    }
   ],
   "source": [
    "[x[0] for x in sorted(results, key=lambda x: x[1][0])]"
   ],
   "metadata": {
    "collapsed": false,
    "pycharm": {
     "name": "#%%\n"
    }
   }
  },
  {
   "cell_type": "code",
   "execution_count": 55,
   "outputs": [
    {
     "name": "stdout",
     "output_type": "stream",
     "text": [
      "Epoch 1/100\n",
      "367/367 [==============================] - 3s 6ms/step - loss: 0.5172 - val_loss: 0.5144\n",
      "Epoch 2/100\n",
      "367/367 [==============================] - 2s 5ms/step - loss: 0.5116 - val_loss: 0.5079\n",
      "Epoch 3/100\n",
      "367/367 [==============================] - 2s 5ms/step - loss: 0.5044 - val_loss: 0.5011\n",
      "Epoch 4/100\n",
      "367/367 [==============================] - 2s 5ms/step - loss: 0.4942 - val_loss: 0.4913\n",
      "Epoch 5/100\n",
      "367/367 [==============================] - 2s 5ms/step - loss: 0.4775 - val_loss: 0.4769\n",
      "Epoch 6/100\n",
      "367/367 [==============================] - 2s 5ms/step - loss: 0.4585 - val_loss: 0.4724\n",
      "Epoch 7/100\n",
      "367/367 [==============================] - 2s 5ms/step - loss: 0.4395 - val_loss: 0.4677\n",
      "Epoch 8/100\n",
      "367/367 [==============================] - 2s 5ms/step - loss: 0.4149 - val_loss: 0.4666\n",
      "Epoch 9/100\n",
      "367/367 [==============================] - 2s 5ms/step - loss: 0.4014 - val_loss: 0.4666\n",
      "Epoch 10/100\n",
      "367/367 [==============================] - 2s 5ms/step - loss: 0.3920 - val_loss: 0.4671\n",
      "Epoch 11/100\n",
      "367/367 [==============================] - 2s 5ms/step - loss: 0.3849 - val_loss: 0.4675\n",
      "Epoch 12/100\n",
      "367/367 [==============================] - 2s 6ms/step - loss: 0.3782 - val_loss: 0.4676\n",
      "Epoch 13/100\n",
      "367/367 [==============================] - 2s 6ms/step - loss: 0.3721 - val_loss: 0.4692\n",
      "Epoch 14/100\n",
      "367/367 [==============================] - 2s 5ms/step - loss: 0.3664 - val_loss: 0.4691\n"
     ]
    },
    {
     "data": {
      "text/plain": "(0.4666041433811188, 14)"
     },
     "execution_count": 55,
     "metadata": {},
     "output_type": "execute_result"
    }
   ],
   "source": [
    "test_model(288, 2, 'softmax')"
   ],
   "metadata": {
    "collapsed": false,
    "pycharm": {
     "name": "#%%\n"
    }
   }
  },
  {
   "cell_type": "code",
   "execution_count": 56,
   "outputs": [
    {
     "data": {
      "text/plain": "70"
     },
     "execution_count": 56,
     "metadata": {},
     "output_type": "execute_result"
    }
   ],
   "source": [
    "len(train_features.columns)"
   ],
   "metadata": {
    "collapsed": false,
    "pycharm": {
     "name": "#%%\n"
    }
   }
  },
  {
   "cell_type": "code",
   "execution_count": 65,
   "outputs": [
    {
     "data": {
      "text/plain": "0.5190910580652209"
     },
     "execution_count": 65,
     "metadata": {},
     "output_type": "execute_result"
    }
   ],
   "source": [
    "df['label'].mean()"
   ],
   "metadata": {
    "collapsed": false,
    "pycharm": {
     "name": "#%%\n"
    }
   }
  },
  {
   "cell_type": "markdown",
   "source": [],
   "metadata": {
    "collapsed": false,
    "pycharm": {
     "name": "#%% md\n"
    }
   }
  }
 ],
 "metadata": {
  "kernelspec": {
   "display_name": "Python 3",
   "language": "python",
   "name": "python3"
  },
  "language_info": {
   "codemirror_mode": {
    "name": "ipython",
    "version": 2
   },
   "file_extension": ".py",
   "mimetype": "text/x-python",
   "name": "python",
   "nbconvert_exporter": "python",
   "pygments_lexer": "ipython2",
   "version": "2.7.6"
  }
 },
 "nbformat": 4,
 "nbformat_minor": 0
}