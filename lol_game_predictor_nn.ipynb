{
 "cells": [
  {
   "cell_type": "code",
   "execution_count": 1,
   "outputs": [],
   "source": [
    "import pandas as pd\n",
    "import tensorflow as tf\n",
    "from tensorflow import keras\n",
    "from tensorflow.keras import layers\n",
    "import numpy as np"
   ],
   "metadata": {
    "collapsed": false,
    "pycharm": {
     "name": "#%%\n"
    }
   }
  },
  {
   "cell_type": "code",
   "execution_count": 2,
   "outputs": [
    {
     "name": "stdout",
     "output_type": "stream",
     "text": [
      "Num GPUs Available:  1\n"
     ]
    }
   ],
   "source": [
    "print(\"Num GPUs Available: \", len(tf.config.list_physical_devices('GPU')))"
   ],
   "metadata": {
    "collapsed": false,
    "pycharm": {
     "name": "#%%\n"
    }
   }
  },
  {
   "cell_type": "code",
   "execution_count": 13,
   "outputs": [
    {
     "data": {
      "text/plain": "            label  player_0_w  player_0_l  player_0_co_w  player_0_co_l  \\\ngame_id                                                                   \n548809662       0         216         181            145             91   \n4484824702      0         541         503             27             28   \n548810655       1         155         146             20              6   \n6140028214      1         686         645             43             41   \n1351099000      1          31          14             23              8   \n\n            player_0_ct_wr  player_1_w  player_1_l  player_1_co_w  \\\ngame_id                                                             \n548809662           0.5354         174         147              8   \n4484824702          0.5161         160         111              0   \n548810655           0.4879          55          46              0   \n6140028214          0.5082         368         281             17   \n1351099000          0.5043          38          12              2   \n\n            player_1_co_l  ...  player_8_w  player_8_l  player_8_co_w  \\\ngame_id                    ...                                          \n548809662               3  ...         297         284              1   \n4484824702              0  ...         269         202              9   \n548810655               0  ...         186         144             22   \n6140028214             11  ...         234         198             25   \n1351099000              0  ...          17           6              8   \n\n            player_8_co_l  player_8_ct_wr  player_9_w  player_9_l  \\\ngame_id                                                             \n548809662               0          0.5003         941         930   \n4484824702              3          0.4971         988         954   \n548810655              23          0.5088          55          45   \n6140028214             32          0.5197        2090        2035   \n1351099000              3          0.5148         125         103   \n\n            player_9_co_w  player_9_co_l  player_9_ct_wr  \ngame_id                                                   \n548809662              43             35          0.5093  \n4484824702             65             78          0.4948  \n548810655               0              1          0.5229  \n6140028214            390            340          0.5306  \n1351099000              0              0          0.4933  \n\n[5 rows x 51 columns]",
      "text/html": "<div>\n<style scoped>\n    .dataframe tbody tr th:only-of-type {\n        vertical-align: middle;\n    }\n\n    .dataframe tbody tr th {\n        vertical-align: top;\n    }\n\n    .dataframe thead th {\n        text-align: right;\n    }\n</style>\n<table border=\"1\" class=\"dataframe\">\n  <thead>\n    <tr style=\"text-align: right;\">\n      <th></th>\n      <th>label</th>\n      <th>player_0_w</th>\n      <th>player_0_l</th>\n      <th>player_0_co_w</th>\n      <th>player_0_co_l</th>\n      <th>player_0_ct_wr</th>\n      <th>player_1_w</th>\n      <th>player_1_l</th>\n      <th>player_1_co_w</th>\n      <th>player_1_co_l</th>\n      <th>...</th>\n      <th>player_8_w</th>\n      <th>player_8_l</th>\n      <th>player_8_co_w</th>\n      <th>player_8_co_l</th>\n      <th>player_8_ct_wr</th>\n      <th>player_9_w</th>\n      <th>player_9_l</th>\n      <th>player_9_co_w</th>\n      <th>player_9_co_l</th>\n      <th>player_9_ct_wr</th>\n    </tr>\n    <tr>\n      <th>game_id</th>\n      <th></th>\n      <th></th>\n      <th></th>\n      <th></th>\n      <th></th>\n      <th></th>\n      <th></th>\n      <th></th>\n      <th></th>\n      <th></th>\n      <th></th>\n      <th></th>\n      <th></th>\n      <th></th>\n      <th></th>\n      <th></th>\n      <th></th>\n      <th></th>\n      <th></th>\n      <th></th>\n      <th></th>\n    </tr>\n  </thead>\n  <tbody>\n    <tr>\n      <td>548809662</td>\n      <td>0</td>\n      <td>216</td>\n      <td>181</td>\n      <td>145</td>\n      <td>91</td>\n      <td>0.5354</td>\n      <td>174</td>\n      <td>147</td>\n      <td>8</td>\n      <td>3</td>\n      <td>...</td>\n      <td>297</td>\n      <td>284</td>\n      <td>1</td>\n      <td>0</td>\n      <td>0.5003</td>\n      <td>941</td>\n      <td>930</td>\n      <td>43</td>\n      <td>35</td>\n      <td>0.5093</td>\n    </tr>\n    <tr>\n      <td>4484824702</td>\n      <td>0</td>\n      <td>541</td>\n      <td>503</td>\n      <td>27</td>\n      <td>28</td>\n      <td>0.5161</td>\n      <td>160</td>\n      <td>111</td>\n      <td>0</td>\n      <td>0</td>\n      <td>...</td>\n      <td>269</td>\n      <td>202</td>\n      <td>9</td>\n      <td>3</td>\n      <td>0.4971</td>\n      <td>988</td>\n      <td>954</td>\n      <td>65</td>\n      <td>78</td>\n      <td>0.4948</td>\n    </tr>\n    <tr>\n      <td>548810655</td>\n      <td>1</td>\n      <td>155</td>\n      <td>146</td>\n      <td>20</td>\n      <td>6</td>\n      <td>0.4879</td>\n      <td>55</td>\n      <td>46</td>\n      <td>0</td>\n      <td>0</td>\n      <td>...</td>\n      <td>186</td>\n      <td>144</td>\n      <td>22</td>\n      <td>23</td>\n      <td>0.5088</td>\n      <td>55</td>\n      <td>45</td>\n      <td>0</td>\n      <td>1</td>\n      <td>0.5229</td>\n    </tr>\n    <tr>\n      <td>6140028214</td>\n      <td>1</td>\n      <td>686</td>\n      <td>645</td>\n      <td>43</td>\n      <td>41</td>\n      <td>0.5082</td>\n      <td>368</td>\n      <td>281</td>\n      <td>17</td>\n      <td>11</td>\n      <td>...</td>\n      <td>234</td>\n      <td>198</td>\n      <td>25</td>\n      <td>32</td>\n      <td>0.5197</td>\n      <td>2090</td>\n      <td>2035</td>\n      <td>390</td>\n      <td>340</td>\n      <td>0.5306</td>\n    </tr>\n    <tr>\n      <td>1351099000</td>\n      <td>1</td>\n      <td>31</td>\n      <td>14</td>\n      <td>23</td>\n      <td>8</td>\n      <td>0.5043</td>\n      <td>38</td>\n      <td>12</td>\n      <td>2</td>\n      <td>0</td>\n      <td>...</td>\n      <td>17</td>\n      <td>6</td>\n      <td>8</td>\n      <td>3</td>\n      <td>0.5148</td>\n      <td>125</td>\n      <td>103</td>\n      <td>0</td>\n      <td>0</td>\n      <td>0.4933</td>\n    </tr>\n  </tbody>\n</table>\n<p>5 rows × 51 columns</p>\n</div>"
     },
     "execution_count": 13,
     "metadata": {},
     "output_type": "execute_result"
    }
   ],
   "source": [
    "from plug_mongo import get_entries\n",
    "df = pd.DataFrame(get_entries()).drop([\"_id\", \"timestamp\"], axis=1).set_index(\"game_id\")\n",
    "df.head()"
   ],
   "metadata": {
    "collapsed": false,
    "pycharm": {
     "name": "#%%\n"
    }
   }
  },
  {
   "cell_type": "code",
   "execution_count": 15,
   "outputs": [
    {
     "data": {
      "text/plain": "0"
     },
     "execution_count": 15,
     "metadata": {},
     "output_type": "execute_result"
    }
   ],
   "source": [
    "df.isnull().sum().sum()"
   ],
   "metadata": {
    "collapsed": false,
    "pycharm": {
     "name": "#%%\n"
    }
   }
  },
  {
   "cell_type": "code",
   "execution_count": 4,
   "outputs": [
    {
     "data": {
      "text/plain": "game_id\n548809662     0.543860\n4484824702    0.518164\n548810655     0.514851\n6140028214    0.515379\n1351099000    0.680851\nName: player_0_wr, dtype: float64"
     },
     "execution_count": 4,
     "metadata": {},
     "output_type": "execute_result"
    }
   ],
   "source": [
    "def add_one(column):\n",
    "\treturn df[column].apply(lambda x: x+1)\n",
    "\n",
    "def get_winrate(column):\n",
    "\twin = add_one(column+'_w')\n",
    "\tlos = add_one(column+'_l')\n",
    "\treturn (win / (win + los)).rename(column+\"_wr\")\n",
    "\n",
    "get_winrate('player_0').head()"
   ],
   "metadata": {
    "collapsed": false,
    "pycharm": {
     "name": "#%%\n"
    }
   }
  },
  {
   "cell_type": "code",
   "execution_count": 5,
   "outputs": [
    {
     "data": {
      "text/plain": "            label  player_0_w  player_0_l  player_0_co_w  player_0_co_l  \\\ngame_id                                                                   \n548809662       0         216         181            145             91   \n4484824702      0         541         503             27             28   \n548810655       1         155         146             20              6   \n6140028214      1         686         645             43             41   \n1351099000      1          31          14             23              8   \n\n            player_0_ct_wr  player_1_w  player_1_l  player_1_co_w  \\\ngame_id                                                             \n548809662           0.5354         174         147              8   \n4484824702          0.5161         160         111              0   \n548810655           0.4879          55          46              0   \n6140028214          0.5082         368         281             17   \n1351099000          0.5043          38          12              2   \n\n            player_1_co_l  ...  player_0_co_wr  player_1_co_wr  \\\ngame_id                    ...                                   \n548809662               3  ...        0.613445        0.692308   \n4484824702              0  ...        0.491228        0.500000   \n548810655               0  ...        0.750000        0.500000   \n6140028214             11  ...        0.511628        0.600000   \n1351099000              0  ...        0.727273        0.750000   \n\n            player_2_co_wr  player_3_co_wr  player_4_co_wr  player_5_co_wr  \\\ngame_id                                                                      \n548809662         0.789474        0.482759        0.700000        0.500000   \n4484824702        0.533537        0.727273        0.545763        0.428571   \n548810655         0.500000        0.285714        0.333333        0.500000   \n6140028214        0.764706        0.625000        0.800000        0.642857   \n1351099000        0.428571        0.500000        0.666667        0.531469   \n\n            player_6_co_wr  player_7_co_wr  player_8_co_wr  player_9_co_wr  \ngame_id                                                                     \n548809662         0.584211        0.666667        0.666667        0.550000  \n4484824702        0.666667        0.549020        0.714286        0.455172  \n548810655         0.500000        0.500000        0.489362        0.333333  \n6140028214        0.527538        0.606383        0.440678        0.534153  \n1351099000        0.666667        0.500000        0.692308        0.500000  \n\n[5 rows x 71 columns]",
      "text/html": "<div>\n<style scoped>\n    .dataframe tbody tr th:only-of-type {\n        vertical-align: middle;\n    }\n\n    .dataframe tbody tr th {\n        vertical-align: top;\n    }\n\n    .dataframe thead th {\n        text-align: right;\n    }\n</style>\n<table border=\"1\" class=\"dataframe\">\n  <thead>\n    <tr style=\"text-align: right;\">\n      <th></th>\n      <th>label</th>\n      <th>player_0_w</th>\n      <th>player_0_l</th>\n      <th>player_0_co_w</th>\n      <th>player_0_co_l</th>\n      <th>player_0_ct_wr</th>\n      <th>player_1_w</th>\n      <th>player_1_l</th>\n      <th>player_1_co_w</th>\n      <th>player_1_co_l</th>\n      <th>...</th>\n      <th>player_0_co_wr</th>\n      <th>player_1_co_wr</th>\n      <th>player_2_co_wr</th>\n      <th>player_3_co_wr</th>\n      <th>player_4_co_wr</th>\n      <th>player_5_co_wr</th>\n      <th>player_6_co_wr</th>\n      <th>player_7_co_wr</th>\n      <th>player_8_co_wr</th>\n      <th>player_9_co_wr</th>\n    </tr>\n    <tr>\n      <th>game_id</th>\n      <th></th>\n      <th></th>\n      <th></th>\n      <th></th>\n      <th></th>\n      <th></th>\n      <th></th>\n      <th></th>\n      <th></th>\n      <th></th>\n      <th></th>\n      <th></th>\n      <th></th>\n      <th></th>\n      <th></th>\n      <th></th>\n      <th></th>\n      <th></th>\n      <th></th>\n      <th></th>\n      <th></th>\n    </tr>\n  </thead>\n  <tbody>\n    <tr>\n      <td>548809662</td>\n      <td>0</td>\n      <td>216</td>\n      <td>181</td>\n      <td>145</td>\n      <td>91</td>\n      <td>0.5354</td>\n      <td>174</td>\n      <td>147</td>\n      <td>8</td>\n      <td>3</td>\n      <td>...</td>\n      <td>0.613445</td>\n      <td>0.692308</td>\n      <td>0.789474</td>\n      <td>0.482759</td>\n      <td>0.700000</td>\n      <td>0.500000</td>\n      <td>0.584211</td>\n      <td>0.666667</td>\n      <td>0.666667</td>\n      <td>0.550000</td>\n    </tr>\n    <tr>\n      <td>4484824702</td>\n      <td>0</td>\n      <td>541</td>\n      <td>503</td>\n      <td>27</td>\n      <td>28</td>\n      <td>0.5161</td>\n      <td>160</td>\n      <td>111</td>\n      <td>0</td>\n      <td>0</td>\n      <td>...</td>\n      <td>0.491228</td>\n      <td>0.500000</td>\n      <td>0.533537</td>\n      <td>0.727273</td>\n      <td>0.545763</td>\n      <td>0.428571</td>\n      <td>0.666667</td>\n      <td>0.549020</td>\n      <td>0.714286</td>\n      <td>0.455172</td>\n    </tr>\n    <tr>\n      <td>548810655</td>\n      <td>1</td>\n      <td>155</td>\n      <td>146</td>\n      <td>20</td>\n      <td>6</td>\n      <td>0.4879</td>\n      <td>55</td>\n      <td>46</td>\n      <td>0</td>\n      <td>0</td>\n      <td>...</td>\n      <td>0.750000</td>\n      <td>0.500000</td>\n      <td>0.500000</td>\n      <td>0.285714</td>\n      <td>0.333333</td>\n      <td>0.500000</td>\n      <td>0.500000</td>\n      <td>0.500000</td>\n      <td>0.489362</td>\n      <td>0.333333</td>\n    </tr>\n    <tr>\n      <td>6140028214</td>\n      <td>1</td>\n      <td>686</td>\n      <td>645</td>\n      <td>43</td>\n      <td>41</td>\n      <td>0.5082</td>\n      <td>368</td>\n      <td>281</td>\n      <td>17</td>\n      <td>11</td>\n      <td>...</td>\n      <td>0.511628</td>\n      <td>0.600000</td>\n      <td>0.764706</td>\n      <td>0.625000</td>\n      <td>0.800000</td>\n      <td>0.642857</td>\n      <td>0.527538</td>\n      <td>0.606383</td>\n      <td>0.440678</td>\n      <td>0.534153</td>\n    </tr>\n    <tr>\n      <td>1351099000</td>\n      <td>1</td>\n      <td>31</td>\n      <td>14</td>\n      <td>23</td>\n      <td>8</td>\n      <td>0.5043</td>\n      <td>38</td>\n      <td>12</td>\n      <td>2</td>\n      <td>0</td>\n      <td>...</td>\n      <td>0.727273</td>\n      <td>0.750000</td>\n      <td>0.428571</td>\n      <td>0.500000</td>\n      <td>0.666667</td>\n      <td>0.531469</td>\n      <td>0.666667</td>\n      <td>0.500000</td>\n      <td>0.692308</td>\n      <td>0.500000</td>\n    </tr>\n  </tbody>\n</table>\n<p>5 rows × 71 columns</p>\n</div>"
     },
     "execution_count": 5,
     "metadata": {},
     "output_type": "execute_result"
    }
   ],
   "source": [
    "result = [df]\n",
    "result.extend([get_winrate(f\"player_{x}\") for x in range(10)])\n",
    "result.extend([get_winrate(f\"player_{x}_co\") for x in range(10)])\n",
    "df_winrates = pd.concat(result, axis=1)\n",
    "df_winrates.head()"
   ],
   "metadata": {
    "collapsed": false,
    "pycharm": {
     "name": "#%%\n"
    }
   }
  },
  {
   "cell_type": "code",
   "execution_count": 16,
   "outputs": [
    {
     "data": {
      "text/plain": "0"
     },
     "execution_count": 16,
     "metadata": {},
     "output_type": "execute_result"
    }
   ],
   "source": [
    "df_winrates.isnull().sum().sum()"
   ],
   "metadata": {
    "collapsed": false,
    "pycharm": {
     "name": "#%%\n"
    }
   }
  },
  {
   "cell_type": "code",
   "execution_count": 6,
   "outputs": [
    {
     "data": {
      "text/plain": "            label  player_0_w  player_0_l  player_0_co_w  player_0_co_l  \\\ngame_id                                                                   \n2628711553      1         458         456              2              1   \n6227393249      0          20          22              0              0   \n4490874955      1         658         641            645            603   \n1241429289      0          76          80              0              0   \n1242270360      0         138         149              1              0   \n\n            player_0_ct_wr  player_1_w  player_1_l  player_1_co_w  \\\ngame_id                                                             \n2628711553        0.532700           0           0              0   \n6227393249        0.500100          56          56              8   \n4490874955        0.452300         139         134              3   \n1241429289        0.500100         229         217              0   \n1242270360        0.477387          57          66             25   \n\n            player_1_co_l  ...  player_0_co_wr  player_1_co_wr  \\\ngame_id                    ...                                   \n2628711553              0  ...        0.600000        0.500000   \n6227393249              1  ...        0.500000        0.818182   \n4490874955              1  ...        0.516800        0.666667   \n1241429289              1  ...        0.500000        0.333333   \n1242270360             32  ...        0.666667        0.440678   \n\n            player_2_co_wr  player_3_co_wr  player_4_co_wr  player_5_co_wr  \\\ngame_id                                                                      \n2628711553        0.666667        0.333333        0.545455        0.428571   \n6227393249        0.500000        0.500000        0.500000        0.666667   \n4490874955        0.425000        0.666667        0.750000        0.483871   \n1241429289        0.250000        0.666667        0.684211        0.642857   \n1242270360        0.666667        0.652174        0.250000        0.600000   \n\n            player_6_co_wr  player_7_co_wr  player_8_co_wr  player_9_co_wr  \ngame_id                                                                     \n2628711553        0.443182        0.568306        0.400000        0.750000  \n6227393249        0.437500        0.500000        0.500000        0.500000  \n4490874955        0.695652        0.857143        0.558140        0.428571  \n1241429289        0.818182        0.250000        0.785714        0.333333  \n1242270360        0.500000        0.571429        0.533333        0.666667  \n\n[5 rows x 71 columns]",
      "text/html": "<div>\n<style scoped>\n    .dataframe tbody tr th:only-of-type {\n        vertical-align: middle;\n    }\n\n    .dataframe tbody tr th {\n        vertical-align: top;\n    }\n\n    .dataframe thead th {\n        text-align: right;\n    }\n</style>\n<table border=\"1\" class=\"dataframe\">\n  <thead>\n    <tr style=\"text-align: right;\">\n      <th></th>\n      <th>label</th>\n      <th>player_0_w</th>\n      <th>player_0_l</th>\n      <th>player_0_co_w</th>\n      <th>player_0_co_l</th>\n      <th>player_0_ct_wr</th>\n      <th>player_1_w</th>\n      <th>player_1_l</th>\n      <th>player_1_co_w</th>\n      <th>player_1_co_l</th>\n      <th>...</th>\n      <th>player_0_co_wr</th>\n      <th>player_1_co_wr</th>\n      <th>player_2_co_wr</th>\n      <th>player_3_co_wr</th>\n      <th>player_4_co_wr</th>\n      <th>player_5_co_wr</th>\n      <th>player_6_co_wr</th>\n      <th>player_7_co_wr</th>\n      <th>player_8_co_wr</th>\n      <th>player_9_co_wr</th>\n    </tr>\n    <tr>\n      <th>game_id</th>\n      <th></th>\n      <th></th>\n      <th></th>\n      <th></th>\n      <th></th>\n      <th></th>\n      <th></th>\n      <th></th>\n      <th></th>\n      <th></th>\n      <th></th>\n      <th></th>\n      <th></th>\n      <th></th>\n      <th></th>\n      <th></th>\n      <th></th>\n      <th></th>\n      <th></th>\n      <th></th>\n      <th></th>\n    </tr>\n  </thead>\n  <tbody>\n    <tr>\n      <td>2628711553</td>\n      <td>1</td>\n      <td>458</td>\n      <td>456</td>\n      <td>2</td>\n      <td>1</td>\n      <td>0.532700</td>\n      <td>0</td>\n      <td>0</td>\n      <td>0</td>\n      <td>0</td>\n      <td>...</td>\n      <td>0.600000</td>\n      <td>0.500000</td>\n      <td>0.666667</td>\n      <td>0.333333</td>\n      <td>0.545455</td>\n      <td>0.428571</td>\n      <td>0.443182</td>\n      <td>0.568306</td>\n      <td>0.400000</td>\n      <td>0.750000</td>\n    </tr>\n    <tr>\n      <td>6227393249</td>\n      <td>0</td>\n      <td>20</td>\n      <td>22</td>\n      <td>0</td>\n      <td>0</td>\n      <td>0.500100</td>\n      <td>56</td>\n      <td>56</td>\n      <td>8</td>\n      <td>1</td>\n      <td>...</td>\n      <td>0.500000</td>\n      <td>0.818182</td>\n      <td>0.500000</td>\n      <td>0.500000</td>\n      <td>0.500000</td>\n      <td>0.666667</td>\n      <td>0.437500</td>\n      <td>0.500000</td>\n      <td>0.500000</td>\n      <td>0.500000</td>\n    </tr>\n    <tr>\n      <td>4490874955</td>\n      <td>1</td>\n      <td>658</td>\n      <td>641</td>\n      <td>645</td>\n      <td>603</td>\n      <td>0.452300</td>\n      <td>139</td>\n      <td>134</td>\n      <td>3</td>\n      <td>1</td>\n      <td>...</td>\n      <td>0.516800</td>\n      <td>0.666667</td>\n      <td>0.425000</td>\n      <td>0.666667</td>\n      <td>0.750000</td>\n      <td>0.483871</td>\n      <td>0.695652</td>\n      <td>0.857143</td>\n      <td>0.558140</td>\n      <td>0.428571</td>\n    </tr>\n    <tr>\n      <td>1241429289</td>\n      <td>0</td>\n      <td>76</td>\n      <td>80</td>\n      <td>0</td>\n      <td>0</td>\n      <td>0.500100</td>\n      <td>229</td>\n      <td>217</td>\n      <td>0</td>\n      <td>1</td>\n      <td>...</td>\n      <td>0.500000</td>\n      <td>0.333333</td>\n      <td>0.250000</td>\n      <td>0.666667</td>\n      <td>0.684211</td>\n      <td>0.642857</td>\n      <td>0.818182</td>\n      <td>0.250000</td>\n      <td>0.785714</td>\n      <td>0.333333</td>\n    </tr>\n    <tr>\n      <td>1242270360</td>\n      <td>0</td>\n      <td>138</td>\n      <td>149</td>\n      <td>1</td>\n      <td>0</td>\n      <td>0.477387</td>\n      <td>57</td>\n      <td>66</td>\n      <td>25</td>\n      <td>32</td>\n      <td>...</td>\n      <td>0.666667</td>\n      <td>0.440678</td>\n      <td>0.666667</td>\n      <td>0.652174</td>\n      <td>0.250000</td>\n      <td>0.600000</td>\n      <td>0.500000</td>\n      <td>0.571429</td>\n      <td>0.533333</td>\n      <td>0.666667</td>\n    </tr>\n  </tbody>\n</table>\n<p>5 rows × 71 columns</p>\n</div>"
     },
     "execution_count": 6,
     "metadata": {},
     "output_type": "execute_result"
    }
   ],
   "source": [
    "train_dataset = df_winrates.sample(frac=0.8, random_state=0)\n",
    "test_dataset = df_winrates.drop(train_dataset.index)\n",
    "train_dataset.head()"
   ],
   "metadata": {
    "collapsed": false,
    "pycharm": {
     "name": "#%%\n"
    }
   }
  },
  {
   "cell_type": "code",
   "execution_count": 7,
   "outputs": [
    {
     "data": {
      "text/plain": "game_id\n2628711553    1\n6227393249    0\n4490874955    1\n1241429289    0\n1242270360    0\nName: label, dtype: int64"
     },
     "execution_count": 7,
     "metadata": {},
     "output_type": "execute_result"
    }
   ],
   "source": [
    "train_features = train_dataset.copy()\n",
    "test_features = test_dataset.copy()\n",
    "\n",
    "train_labels = train_features.pop('label')\n",
    "test_labels = test_features.pop('label')\n",
    "train_labels.head()"
   ],
   "metadata": {
    "collapsed": false,
    "pycharm": {
     "name": "#%%\n"
    }
   }
  },
  {
   "cell_type": "code",
   "execution_count": 8,
   "outputs": [],
   "source": [
    "normalizer = tf.keras.layers.Normalization(axis=-1)\n",
    "normalizer.adapt(train_features)"
   ],
   "metadata": {
    "collapsed": false,
    "pycharm": {
     "name": "#%%\n"
    }
   }
  },
  {
   "cell_type": "code",
   "execution_count": 9,
   "outputs": [],
   "source": [
    "def build_and_compile_model(norm, width, depth, activation='relu'):\n",
    "    layer_l = [norm]\n",
    "    layer_l.extend([layers.Dense(width, activation=activation) for _ in range(depth)])\n",
    "    layer_l.append(layers.Dense(1, activation='softmax'))\n",
    "    model = keras.Sequential(layer_l)\n",
    "    model.compile(loss='mean_absolute_error',\n",
    "                  optimizer=tf.keras.optimizers.Adam(0.001))\n",
    "    return model"
   ],
   "metadata": {
    "collapsed": false,
    "pycharm": {
     "name": "#%%\n"
    }
   }
  },
  {
   "cell_type": "code",
   "execution_count": 10,
   "outputs": [
    {
     "name": "stdout",
     "output_type": "stream",
     "text": [
      "Model: \"sequential\"\n",
      "_________________________________________________________________\n",
      " Layer (type)                Output Shape              Param #   \n",
      "=================================================================\n",
      " normalization (Normalizatio  (None, 70)               141       \n",
      " n)                                                              \n",
      "                                                                 \n",
      " dense (Dense)               (None, 64)                4544      \n",
      "                                                                 \n",
      " dense_1 (Dense)             (None, 64)                4160      \n",
      "                                                                 \n",
      " dense_2 (Dense)             (None, 1)                 65        \n",
      "                                                                 \n",
      "=================================================================\n",
      "Total params: 8,910\n",
      "Trainable params: 8,769\n",
      "Non-trainable params: 141\n",
      "_________________________________________________________________\n"
     ]
    }
   ],
   "source": [
    "dnn_model = build_and_compile_model(normalizer, 64, 2)\n",
    "dnn_model.summary()"
   ],
   "metadata": {
    "collapsed": false,
    "pycharm": {
     "name": "#%%\n"
    }
   }
  },
  {
   "cell_type": "code",
   "execution_count": 11,
   "outputs": [
    {
     "name": "stdout",
     "output_type": "stream",
     "text": [
      "Epoch 1/100\n",
      "393/393 [==============================] - 3s 5ms/step - loss: 0.4785 - val_loss: 0.4893\n",
      "Epoch 2/100\n",
      "393/393 [==============================] - 2s 5ms/step - loss: 0.4785 - val_loss: 0.4893\n",
      "Epoch 3/100\n",
      "393/393 [==============================] - 2s 5ms/step - loss: 0.4785 - val_loss: 0.4893\n",
      "Epoch 4/100\n",
      "393/393 [==============================] - 2s 5ms/step - loss: 0.4785 - val_loss: 0.4893\n",
      "Epoch 5/100\n",
      "393/393 [==============================] - 2s 5ms/step - loss: 0.4785 - val_loss: 0.4893\n",
      "Epoch 6/100\n",
      "393/393 [==============================] - 3s 6ms/step - loss: 0.4785 - val_loss: 0.4893\n",
      "Epoch 7/100\n",
      "393/393 [==============================] - 2s 5ms/step - loss: 0.4785 - val_loss: 0.4893\n",
      "Epoch 8/100\n",
      "393/393 [==============================] - 2s 5ms/step - loss: 0.4785 - val_loss: 0.4893\n",
      "Epoch 9/100\n",
      "393/393 [==============================] - 2s 6ms/step - loss: 0.4785 - val_loss: 0.4893\n",
      "Epoch 10/100\n",
      "393/393 [==============================] - 2s 5ms/step - loss: 0.4785 - val_loss: 0.4893\n",
      "Epoch 11/100\n",
      "393/393 [==============================] - 2s 5ms/step - loss: 0.4785 - val_loss: 0.4893\n",
      "Epoch 12/100\n",
      "393/393 [==============================] - 2s 5ms/step - loss: 0.4785 - val_loss: 0.4893\n",
      "Epoch 13/100\n",
      "393/393 [==============================] - 2s 5ms/step - loss: 0.4785 - val_loss: 0.4893\n",
      "Epoch 14/100\n",
      "393/393 [==============================] - 2s 5ms/step - loss: 0.4785 - val_loss: 0.4893\n",
      "Epoch 15/100\n",
      "393/393 [==============================] - 2s 5ms/step - loss: 0.4785 - val_loss: 0.4893\n",
      "Epoch 16/100\n",
      "393/393 [==============================] - 2s 5ms/step - loss: 0.4785 - val_loss: 0.4893\n",
      "Epoch 17/100\n",
      "393/393 [==============================] - 2s 5ms/step - loss: 0.4785 - val_loss: 0.4893\n",
      "Epoch 18/100\n",
      "393/393 [==============================] - 2s 5ms/step - loss: 0.4785 - val_loss: 0.4893\n",
      "Epoch 19/100\n",
      "393/393 [==============================] - 2s 5ms/step - loss: 0.4785 - val_loss: 0.4893\n",
      "Epoch 20/100\n",
      "393/393 [==============================] - 2s 5ms/step - loss: 0.4785 - val_loss: 0.4893\n",
      "Epoch 21/100\n",
      "393/393 [==============================] - 2s 5ms/step - loss: 0.4785 - val_loss: 0.4893\n",
      "Epoch 22/100\n",
      "393/393 [==============================] - 2s 5ms/step - loss: 0.4785 - val_loss: 0.4893\n",
      "Epoch 23/100\n",
      "393/393 [==============================] - 2s 5ms/step - loss: 0.4785 - val_loss: 0.4893\n",
      "Epoch 24/100\n",
      "393/393 [==============================] - 2s 5ms/step - loss: 0.4785 - val_loss: 0.4893\n",
      "Epoch 25/100\n",
      "393/393 [==============================] - 2s 5ms/step - loss: 0.4785 - val_loss: 0.4893\n",
      "Epoch 26/100\n",
      "393/393 [==============================] - 2s 5ms/step - loss: 0.4785 - val_loss: 0.4893\n",
      "Epoch 27/100\n",
      "393/393 [==============================] - 2s 5ms/step - loss: 0.4785 - val_loss: 0.4893\n",
      "Epoch 28/100\n",
      "393/393 [==============================] - 2s 5ms/step - loss: 0.4785 - val_loss: 0.4893\n",
      "Epoch 29/100\n",
      "393/393 [==============================] - 2s 5ms/step - loss: 0.4785 - val_loss: 0.4893\n",
      "Epoch 30/100\n",
      "393/393 [==============================] - 2s 5ms/step - loss: 0.4785 - val_loss: 0.4893\n",
      "Epoch 31/100\n",
      "393/393 [==============================] - 2s 5ms/step - loss: 0.4785 - val_loss: 0.4893\n",
      "Epoch 32/100\n",
      "393/393 [==============================] - 2s 6ms/step - loss: 0.4785 - val_loss: 0.4893\n",
      "Epoch 33/100\n",
      "393/393 [==============================] - 2s 6ms/step - loss: 0.4785 - val_loss: 0.4893\n",
      "Epoch 34/100\n",
      "393/393 [==============================] - 2s 5ms/step - loss: 0.4785 - val_loss: 0.4893\n",
      "Epoch 35/100\n",
      "393/393 [==============================] - 2s 5ms/step - loss: 0.4785 - val_loss: 0.4893\n",
      "Epoch 36/100\n",
      "393/393 [==============================] - 2s 6ms/step - loss: 0.4785 - val_loss: 0.4893\n",
      "Epoch 37/100\n",
      "393/393 [==============================] - 2s 6ms/step - loss: 0.4785 - val_loss: 0.4893\n",
      "Epoch 38/100\n",
      "393/393 [==============================] - 2s 6ms/step - loss: 0.4785 - val_loss: 0.4893\n",
      "Epoch 39/100\n",
      "393/393 [==============================] - 2s 5ms/step - loss: 0.4785 - val_loss: 0.4893\n",
      "Epoch 40/100\n",
      "393/393 [==============================] - 2s 6ms/step - loss: 0.4785 - val_loss: 0.4893\n",
      "Epoch 41/100\n",
      "393/393 [==============================] - 2s 6ms/step - loss: 0.4785 - val_loss: 0.4893\n",
      "Epoch 42/100\n",
      "393/393 [==============================] - 2s 5ms/step - loss: 0.4785 - val_loss: 0.4893\n",
      "Epoch 43/100\n",
      "393/393 [==============================] - 2s 5ms/step - loss: 0.4785 - val_loss: 0.4893\n",
      "Epoch 44/100\n",
      "393/393 [==============================] - 2s 5ms/step - loss: 0.4785 - val_loss: 0.4893\n",
      "Epoch 45/100\n",
      "393/393 [==============================] - 2s 5ms/step - loss: 0.4785 - val_loss: 0.4893\n",
      "Epoch 46/100\n",
      "393/393 [==============================] - 2s 5ms/step - loss: 0.4785 - val_loss: 0.4893\n",
      "Epoch 47/100\n",
      "393/393 [==============================] - 2s 5ms/step - loss: 0.4785 - val_loss: 0.4893\n",
      "Epoch 48/100\n",
      "393/393 [==============================] - 2s 5ms/step - loss: 0.4785 - val_loss: 0.4893\n",
      "Epoch 49/100\n",
      "393/393 [==============================] - 2s 5ms/step - loss: 0.4785 - val_loss: 0.4893\n",
      "Epoch 50/100\n",
      "393/393 [==============================] - 2s 5ms/step - loss: 0.4785 - val_loss: 0.4893\n",
      "Epoch 51/100\n",
      "393/393 [==============================] - 2s 5ms/step - loss: 0.4785 - val_loss: 0.4893\n",
      "Epoch 52/100\n",
      "393/393 [==============================] - 2s 6ms/step - loss: 0.4785 - val_loss: 0.4893\n",
      "Epoch 53/100\n",
      "393/393 [==============================] - 2s 6ms/step - loss: 0.4785 - val_loss: 0.4893\n",
      "Epoch 54/100\n",
      "322/393 [=======================>......] - ETA: 0s - loss: 0.4776"
     ]
    },
    {
     "ename": "KeyboardInterrupt",
     "evalue": "",
     "output_type": "error",
     "traceback": [
      "\u001B[1;31m---------------------------------------------------------------------------\u001B[0m",
      "\u001B[1;31mKeyboardInterrupt\u001B[0m                         Traceback (most recent call last)",
      "\u001B[1;32m<ipython-input-11-22dfbb7030f7>\u001B[0m in \u001B[0;36m<module>\u001B[1;34m\u001B[0m\n\u001B[0;32m      3\u001B[0m     \u001B[0mtrain_labels\u001B[0m\u001B[1;33m,\u001B[0m\u001B[1;33m\u001B[0m\u001B[1;33m\u001B[0m\u001B[0m\n\u001B[0;32m      4\u001B[0m     \u001B[0mvalidation_split\u001B[0m\u001B[1;33m=\u001B[0m\u001B[1;36m0.2\u001B[0m\u001B[1;33m,\u001B[0m\u001B[1;33m\u001B[0m\u001B[1;33m\u001B[0m\u001B[0m\n\u001B[1;32m----> 5\u001B[1;33m     verbose=1, epochs=100)\n\u001B[0m",
      "\u001B[1;32mC:\\ProgramData\\Anaconda3\\lib\\site-packages\\keras\\utils\\traceback_utils.py\u001B[0m in \u001B[0;36merror_handler\u001B[1;34m(*args, **kwargs)\u001B[0m\n\u001B[0;32m     62\u001B[0m     \u001B[0mfiltered_tb\u001B[0m \u001B[1;33m=\u001B[0m \u001B[1;32mNone\u001B[0m\u001B[1;33m\u001B[0m\u001B[1;33m\u001B[0m\u001B[0m\n\u001B[0;32m     63\u001B[0m     \u001B[1;32mtry\u001B[0m\u001B[1;33m:\u001B[0m\u001B[1;33m\u001B[0m\u001B[1;33m\u001B[0m\u001B[0m\n\u001B[1;32m---> 64\u001B[1;33m       \u001B[1;32mreturn\u001B[0m \u001B[0mfn\u001B[0m\u001B[1;33m(\u001B[0m\u001B[1;33m*\u001B[0m\u001B[0margs\u001B[0m\u001B[1;33m,\u001B[0m \u001B[1;33m**\u001B[0m\u001B[0mkwargs\u001B[0m\u001B[1;33m)\u001B[0m\u001B[1;33m\u001B[0m\u001B[1;33m\u001B[0m\u001B[0m\n\u001B[0m\u001B[0;32m     65\u001B[0m     \u001B[1;32mexcept\u001B[0m \u001B[0mException\u001B[0m \u001B[1;32mas\u001B[0m \u001B[0me\u001B[0m\u001B[1;33m:\u001B[0m  \u001B[1;31m# pylint: disable=broad-except\u001B[0m\u001B[1;33m\u001B[0m\u001B[1;33m\u001B[0m\u001B[0m\n\u001B[0;32m     66\u001B[0m       \u001B[0mfiltered_tb\u001B[0m \u001B[1;33m=\u001B[0m \u001B[0m_process_traceback_frames\u001B[0m\u001B[1;33m(\u001B[0m\u001B[0me\u001B[0m\u001B[1;33m.\u001B[0m\u001B[0m__traceback__\u001B[0m\u001B[1;33m)\u001B[0m\u001B[1;33m\u001B[0m\u001B[1;33m\u001B[0m\u001B[0m\n",
      "\u001B[1;32mC:\\ProgramData\\Anaconda3\\lib\\site-packages\\keras\\engine\\training.py\u001B[0m in \u001B[0;36mfit\u001B[1;34m(self, x, y, batch_size, epochs, verbose, callbacks, validation_split, validation_data, shuffle, class_weight, sample_weight, initial_epoch, steps_per_epoch, validation_steps, validation_batch_size, validation_freq, max_queue_size, workers, use_multiprocessing)\u001B[0m\n\u001B[0;32m   1412\u001B[0m               \u001B[0mlogs\u001B[0m \u001B[1;33m=\u001B[0m \u001B[0mtmp_logs\u001B[0m  \u001B[1;31m# No error, now safe to assign to logs.\u001B[0m\u001B[1;33m\u001B[0m\u001B[1;33m\u001B[0m\u001B[0m\n\u001B[0;32m   1413\u001B[0m               \u001B[0mend_step\u001B[0m \u001B[1;33m=\u001B[0m \u001B[0mstep\u001B[0m \u001B[1;33m+\u001B[0m \u001B[0mdata_handler\u001B[0m\u001B[1;33m.\u001B[0m\u001B[0mstep_increment\u001B[0m\u001B[1;33m\u001B[0m\u001B[1;33m\u001B[0m\u001B[0m\n\u001B[1;32m-> 1414\u001B[1;33m               \u001B[0mcallbacks\u001B[0m\u001B[1;33m.\u001B[0m\u001B[0mon_train_batch_end\u001B[0m\u001B[1;33m(\u001B[0m\u001B[0mend_step\u001B[0m\u001B[1;33m,\u001B[0m \u001B[0mlogs\u001B[0m\u001B[1;33m)\u001B[0m\u001B[1;33m\u001B[0m\u001B[1;33m\u001B[0m\u001B[0m\n\u001B[0m\u001B[0;32m   1415\u001B[0m               \u001B[1;32mif\u001B[0m \u001B[0mself\u001B[0m\u001B[1;33m.\u001B[0m\u001B[0mstop_training\u001B[0m\u001B[1;33m:\u001B[0m\u001B[1;33m\u001B[0m\u001B[1;33m\u001B[0m\u001B[0m\n\u001B[0;32m   1416\u001B[0m                 \u001B[1;32mbreak\u001B[0m\u001B[1;33m\u001B[0m\u001B[1;33m\u001B[0m\u001B[0m\n",
      "\u001B[1;32mC:\\ProgramData\\Anaconda3\\lib\\site-packages\\keras\\callbacks.py\u001B[0m in \u001B[0;36mon_train_batch_end\u001B[1;34m(self, batch, logs)\u001B[0m\n\u001B[0;32m    436\u001B[0m     \"\"\"\n\u001B[0;32m    437\u001B[0m     \u001B[1;32mif\u001B[0m \u001B[0mself\u001B[0m\u001B[1;33m.\u001B[0m\u001B[0m_should_call_train_batch_hooks\u001B[0m\u001B[1;33m:\u001B[0m\u001B[1;33m\u001B[0m\u001B[1;33m\u001B[0m\u001B[0m\n\u001B[1;32m--> 438\u001B[1;33m       \u001B[0mself\u001B[0m\u001B[1;33m.\u001B[0m\u001B[0m_call_batch_hook\u001B[0m\u001B[1;33m(\u001B[0m\u001B[0mModeKeys\u001B[0m\u001B[1;33m.\u001B[0m\u001B[0mTRAIN\u001B[0m\u001B[1;33m,\u001B[0m \u001B[1;34m'end'\u001B[0m\u001B[1;33m,\u001B[0m \u001B[0mbatch\u001B[0m\u001B[1;33m,\u001B[0m \u001B[0mlogs\u001B[0m\u001B[1;33m=\u001B[0m\u001B[0mlogs\u001B[0m\u001B[1;33m)\u001B[0m\u001B[1;33m\u001B[0m\u001B[1;33m\u001B[0m\u001B[0m\n\u001B[0m\u001B[0;32m    439\u001B[0m \u001B[1;33m\u001B[0m\u001B[0m\n\u001B[0;32m    440\u001B[0m   \u001B[1;32mdef\u001B[0m \u001B[0mon_test_batch_begin\u001B[0m\u001B[1;33m(\u001B[0m\u001B[0mself\u001B[0m\u001B[1;33m,\u001B[0m \u001B[0mbatch\u001B[0m\u001B[1;33m,\u001B[0m \u001B[0mlogs\u001B[0m\u001B[1;33m=\u001B[0m\u001B[1;32mNone\u001B[0m\u001B[1;33m)\u001B[0m\u001B[1;33m:\u001B[0m\u001B[1;33m\u001B[0m\u001B[1;33m\u001B[0m\u001B[0m\n",
      "\u001B[1;32mC:\\ProgramData\\Anaconda3\\lib\\site-packages\\keras\\callbacks.py\u001B[0m in \u001B[0;36m_call_batch_hook\u001B[1;34m(self, mode, hook, batch, logs)\u001B[0m\n\u001B[0;32m    295\u001B[0m       \u001B[0mself\u001B[0m\u001B[1;33m.\u001B[0m\u001B[0m_call_batch_begin_hook\u001B[0m\u001B[1;33m(\u001B[0m\u001B[0mmode\u001B[0m\u001B[1;33m,\u001B[0m \u001B[0mbatch\u001B[0m\u001B[1;33m,\u001B[0m \u001B[0mlogs\u001B[0m\u001B[1;33m)\u001B[0m\u001B[1;33m\u001B[0m\u001B[1;33m\u001B[0m\u001B[0m\n\u001B[0;32m    296\u001B[0m     \u001B[1;32melif\u001B[0m \u001B[0mhook\u001B[0m \u001B[1;33m==\u001B[0m \u001B[1;34m'end'\u001B[0m\u001B[1;33m:\u001B[0m\u001B[1;33m\u001B[0m\u001B[1;33m\u001B[0m\u001B[0m\n\u001B[1;32m--> 297\u001B[1;33m       \u001B[0mself\u001B[0m\u001B[1;33m.\u001B[0m\u001B[0m_call_batch_end_hook\u001B[0m\u001B[1;33m(\u001B[0m\u001B[0mmode\u001B[0m\u001B[1;33m,\u001B[0m \u001B[0mbatch\u001B[0m\u001B[1;33m,\u001B[0m \u001B[0mlogs\u001B[0m\u001B[1;33m)\u001B[0m\u001B[1;33m\u001B[0m\u001B[1;33m\u001B[0m\u001B[0m\n\u001B[0m\u001B[0;32m    298\u001B[0m     \u001B[1;32melse\u001B[0m\u001B[1;33m:\u001B[0m\u001B[1;33m\u001B[0m\u001B[1;33m\u001B[0m\u001B[0m\n\u001B[0;32m    299\u001B[0m       raise ValueError(\n",
      "\u001B[1;32mC:\\ProgramData\\Anaconda3\\lib\\site-packages\\keras\\callbacks.py\u001B[0m in \u001B[0;36m_call_batch_end_hook\u001B[1;34m(self, mode, batch, logs)\u001B[0m\n\u001B[0;32m    316\u001B[0m       \u001B[0mself\u001B[0m\u001B[1;33m.\u001B[0m\u001B[0m_batch_times\u001B[0m\u001B[1;33m.\u001B[0m\u001B[0mappend\u001B[0m\u001B[1;33m(\u001B[0m\u001B[0mbatch_time\u001B[0m\u001B[1;33m)\u001B[0m\u001B[1;33m\u001B[0m\u001B[1;33m\u001B[0m\u001B[0m\n\u001B[0;32m    317\u001B[0m \u001B[1;33m\u001B[0m\u001B[0m\n\u001B[1;32m--> 318\u001B[1;33m     \u001B[0mself\u001B[0m\u001B[1;33m.\u001B[0m\u001B[0m_call_batch_hook_helper\u001B[0m\u001B[1;33m(\u001B[0m\u001B[0mhook_name\u001B[0m\u001B[1;33m,\u001B[0m \u001B[0mbatch\u001B[0m\u001B[1;33m,\u001B[0m \u001B[0mlogs\u001B[0m\u001B[1;33m)\u001B[0m\u001B[1;33m\u001B[0m\u001B[1;33m\u001B[0m\u001B[0m\n\u001B[0m\u001B[0;32m    319\u001B[0m \u001B[1;33m\u001B[0m\u001B[0m\n\u001B[0;32m    320\u001B[0m     \u001B[1;32mif\u001B[0m \u001B[0mlen\u001B[0m\u001B[1;33m(\u001B[0m\u001B[0mself\u001B[0m\u001B[1;33m.\u001B[0m\u001B[0m_batch_times\u001B[0m\u001B[1;33m)\u001B[0m \u001B[1;33m>=\u001B[0m \u001B[0mself\u001B[0m\u001B[1;33m.\u001B[0m\u001B[0m_num_batches_for_timing_check\u001B[0m\u001B[1;33m:\u001B[0m\u001B[1;33m\u001B[0m\u001B[1;33m\u001B[0m\u001B[0m\n",
      "\u001B[1;32mC:\\ProgramData\\Anaconda3\\lib\\site-packages\\keras\\callbacks.py\u001B[0m in \u001B[0;36m_call_batch_hook_helper\u001B[1;34m(self, hook_name, batch, logs)\u001B[0m\n\u001B[0;32m    354\u001B[0m     \u001B[1;32mfor\u001B[0m \u001B[0mcallback\u001B[0m \u001B[1;32min\u001B[0m \u001B[0mself\u001B[0m\u001B[1;33m.\u001B[0m\u001B[0mcallbacks\u001B[0m\u001B[1;33m:\u001B[0m\u001B[1;33m\u001B[0m\u001B[1;33m\u001B[0m\u001B[0m\n\u001B[0;32m    355\u001B[0m       \u001B[0mhook\u001B[0m \u001B[1;33m=\u001B[0m \u001B[0mgetattr\u001B[0m\u001B[1;33m(\u001B[0m\u001B[0mcallback\u001B[0m\u001B[1;33m,\u001B[0m \u001B[0mhook_name\u001B[0m\u001B[1;33m)\u001B[0m\u001B[1;33m\u001B[0m\u001B[1;33m\u001B[0m\u001B[0m\n\u001B[1;32m--> 356\u001B[1;33m       \u001B[0mhook\u001B[0m\u001B[1;33m(\u001B[0m\u001B[0mbatch\u001B[0m\u001B[1;33m,\u001B[0m \u001B[0mlogs\u001B[0m\u001B[1;33m)\u001B[0m\u001B[1;33m\u001B[0m\u001B[1;33m\u001B[0m\u001B[0m\n\u001B[0m\u001B[0;32m    357\u001B[0m \u001B[1;33m\u001B[0m\u001B[0m\n\u001B[0;32m    358\u001B[0m     \u001B[1;32mif\u001B[0m \u001B[0mself\u001B[0m\u001B[1;33m.\u001B[0m\u001B[0m_check_timing\u001B[0m\u001B[1;33m:\u001B[0m\u001B[1;33m\u001B[0m\u001B[1;33m\u001B[0m\u001B[0m\n",
      "\u001B[1;32mC:\\ProgramData\\Anaconda3\\lib\\site-packages\\keras\\callbacks.py\u001B[0m in \u001B[0;36mon_train_batch_end\u001B[1;34m(self, batch, logs)\u001B[0m\n\u001B[0;32m   1032\u001B[0m \u001B[1;33m\u001B[0m\u001B[0m\n\u001B[0;32m   1033\u001B[0m   \u001B[1;32mdef\u001B[0m \u001B[0mon_train_batch_end\u001B[0m\u001B[1;33m(\u001B[0m\u001B[0mself\u001B[0m\u001B[1;33m,\u001B[0m \u001B[0mbatch\u001B[0m\u001B[1;33m,\u001B[0m \u001B[0mlogs\u001B[0m\u001B[1;33m=\u001B[0m\u001B[1;32mNone\u001B[0m\u001B[1;33m)\u001B[0m\u001B[1;33m:\u001B[0m\u001B[1;33m\u001B[0m\u001B[1;33m\u001B[0m\u001B[0m\n\u001B[1;32m-> 1034\u001B[1;33m     \u001B[0mself\u001B[0m\u001B[1;33m.\u001B[0m\u001B[0m_batch_update_progbar\u001B[0m\u001B[1;33m(\u001B[0m\u001B[0mbatch\u001B[0m\u001B[1;33m,\u001B[0m \u001B[0mlogs\u001B[0m\u001B[1;33m)\u001B[0m\u001B[1;33m\u001B[0m\u001B[1;33m\u001B[0m\u001B[0m\n\u001B[0m\u001B[0;32m   1035\u001B[0m \u001B[1;33m\u001B[0m\u001B[0m\n\u001B[0;32m   1036\u001B[0m   \u001B[1;32mdef\u001B[0m \u001B[0mon_test_batch_end\u001B[0m\u001B[1;33m(\u001B[0m\u001B[0mself\u001B[0m\u001B[1;33m,\u001B[0m \u001B[0mbatch\u001B[0m\u001B[1;33m,\u001B[0m \u001B[0mlogs\u001B[0m\u001B[1;33m=\u001B[0m\u001B[1;32mNone\u001B[0m\u001B[1;33m)\u001B[0m\u001B[1;33m:\u001B[0m\u001B[1;33m\u001B[0m\u001B[1;33m\u001B[0m\u001B[0m\n",
      "\u001B[1;32mC:\\ProgramData\\Anaconda3\\lib\\site-packages\\keras\\callbacks.py\u001B[0m in \u001B[0;36m_batch_update_progbar\u001B[1;34m(self, batch, logs)\u001B[0m\n\u001B[0;32m   1104\u001B[0m     \u001B[1;32mif\u001B[0m \u001B[0mself\u001B[0m\u001B[1;33m.\u001B[0m\u001B[0mverbose\u001B[0m \u001B[1;33m==\u001B[0m \u001B[1;36m1\u001B[0m\u001B[1;33m:\u001B[0m\u001B[1;33m\u001B[0m\u001B[1;33m\u001B[0m\u001B[0m\n\u001B[0;32m   1105\u001B[0m       \u001B[1;31m# Only block async when verbose = 1.\u001B[0m\u001B[1;33m\u001B[0m\u001B[1;33m\u001B[0m\u001B[1;33m\u001B[0m\u001B[0m\n\u001B[1;32m-> 1106\u001B[1;33m       \u001B[0mlogs\u001B[0m \u001B[1;33m=\u001B[0m \u001B[0mtf_utils\u001B[0m\u001B[1;33m.\u001B[0m\u001B[0msync_to_numpy_or_python_type\u001B[0m\u001B[1;33m(\u001B[0m\u001B[0mlogs\u001B[0m\u001B[1;33m)\u001B[0m\u001B[1;33m\u001B[0m\u001B[1;33m\u001B[0m\u001B[0m\n\u001B[0m\u001B[0;32m   1107\u001B[0m       \u001B[0mself\u001B[0m\u001B[1;33m.\u001B[0m\u001B[0mprogbar\u001B[0m\u001B[1;33m.\u001B[0m\u001B[0mupdate\u001B[0m\u001B[1;33m(\u001B[0m\u001B[0mself\u001B[0m\u001B[1;33m.\u001B[0m\u001B[0mseen\u001B[0m\u001B[1;33m,\u001B[0m \u001B[0mlist\u001B[0m\u001B[1;33m(\u001B[0m\u001B[0mlogs\u001B[0m\u001B[1;33m.\u001B[0m\u001B[0mitems\u001B[0m\u001B[1;33m(\u001B[0m\u001B[1;33m)\u001B[0m\u001B[1;33m)\u001B[0m\u001B[1;33m,\u001B[0m \u001B[0mfinalize\u001B[0m\u001B[1;33m=\u001B[0m\u001B[1;32mFalse\u001B[0m\u001B[1;33m)\u001B[0m\u001B[1;33m\u001B[0m\u001B[1;33m\u001B[0m\u001B[0m\n\u001B[0;32m   1108\u001B[0m \u001B[1;33m\u001B[0m\u001B[0m\n",
      "\u001B[1;32mC:\\ProgramData\\Anaconda3\\lib\\site-packages\\keras\\utils\\tf_utils.py\u001B[0m in \u001B[0;36msync_to_numpy_or_python_type\u001B[1;34m(tensors)\u001B[0m\n\u001B[0;32m    605\u001B[0m     \u001B[1;32mreturn\u001B[0m \u001B[0mt\u001B[0m\u001B[1;33m.\u001B[0m\u001B[0mitem\u001B[0m\u001B[1;33m(\u001B[0m\u001B[1;33m)\u001B[0m \u001B[1;32mif\u001B[0m \u001B[0mnp\u001B[0m\u001B[1;33m.\u001B[0m\u001B[0mndim\u001B[0m\u001B[1;33m(\u001B[0m\u001B[0mt\u001B[0m\u001B[1;33m)\u001B[0m \u001B[1;33m==\u001B[0m \u001B[1;36m0\u001B[0m \u001B[1;32melse\u001B[0m \u001B[0mt\u001B[0m\u001B[1;33m\u001B[0m\u001B[1;33m\u001B[0m\u001B[0m\n\u001B[0;32m    606\u001B[0m \u001B[1;33m\u001B[0m\u001B[0m\n\u001B[1;32m--> 607\u001B[1;33m   \u001B[1;32mreturn\u001B[0m \u001B[0mtf\u001B[0m\u001B[1;33m.\u001B[0m\u001B[0mnest\u001B[0m\u001B[1;33m.\u001B[0m\u001B[0mmap_structure\u001B[0m\u001B[1;33m(\u001B[0m\u001B[0m_to_single_numpy_or_python_type\u001B[0m\u001B[1;33m,\u001B[0m \u001B[0mtensors\u001B[0m\u001B[1;33m)\u001B[0m\u001B[1;33m\u001B[0m\u001B[1;33m\u001B[0m\u001B[0m\n\u001B[0m\u001B[0;32m    608\u001B[0m \u001B[1;33m\u001B[0m\u001B[0m\n\u001B[0;32m    609\u001B[0m \u001B[1;33m\u001B[0m\u001B[0m\n",
      "\u001B[1;32mC:\\ProgramData\\Anaconda3\\lib\\site-packages\\tensorflow\\python\\util\\nest.py\u001B[0m in \u001B[0;36mmap_structure\u001B[1;34m(func, *structure, **kwargs)\u001B[0m\n\u001B[0;32m    914\u001B[0m \u001B[1;33m\u001B[0m\u001B[0m\n\u001B[0;32m    915\u001B[0m   return pack_sequence_as(\n\u001B[1;32m--> 916\u001B[1;33m       \u001B[0mstructure\u001B[0m\u001B[1;33m[\u001B[0m\u001B[1;36m0\u001B[0m\u001B[1;33m]\u001B[0m\u001B[1;33m,\u001B[0m \u001B[1;33m[\u001B[0m\u001B[0mfunc\u001B[0m\u001B[1;33m(\u001B[0m\u001B[1;33m*\u001B[0m\u001B[0mx\u001B[0m\u001B[1;33m)\u001B[0m \u001B[1;32mfor\u001B[0m \u001B[0mx\u001B[0m \u001B[1;32min\u001B[0m \u001B[0mentries\u001B[0m\u001B[1;33m]\u001B[0m\u001B[1;33m,\u001B[0m\u001B[1;33m\u001B[0m\u001B[1;33m\u001B[0m\u001B[0m\n\u001B[0m\u001B[0;32m    917\u001B[0m       expand_composites=expand_composites)\n\u001B[0;32m    918\u001B[0m \u001B[1;33m\u001B[0m\u001B[0m\n",
      "\u001B[1;32mC:\\ProgramData\\Anaconda3\\lib\\site-packages\\tensorflow\\python\\util\\nest.py\u001B[0m in \u001B[0;36m<listcomp>\u001B[1;34m(.0)\u001B[0m\n\u001B[0;32m    914\u001B[0m \u001B[1;33m\u001B[0m\u001B[0m\n\u001B[0;32m    915\u001B[0m   return pack_sequence_as(\n\u001B[1;32m--> 916\u001B[1;33m       \u001B[0mstructure\u001B[0m\u001B[1;33m[\u001B[0m\u001B[1;36m0\u001B[0m\u001B[1;33m]\u001B[0m\u001B[1;33m,\u001B[0m \u001B[1;33m[\u001B[0m\u001B[0mfunc\u001B[0m\u001B[1;33m(\u001B[0m\u001B[1;33m*\u001B[0m\u001B[0mx\u001B[0m\u001B[1;33m)\u001B[0m \u001B[1;32mfor\u001B[0m \u001B[0mx\u001B[0m \u001B[1;32min\u001B[0m \u001B[0mentries\u001B[0m\u001B[1;33m]\u001B[0m\u001B[1;33m,\u001B[0m\u001B[1;33m\u001B[0m\u001B[1;33m\u001B[0m\u001B[0m\n\u001B[0m\u001B[0;32m    917\u001B[0m       expand_composites=expand_composites)\n\u001B[0;32m    918\u001B[0m \u001B[1;33m\u001B[0m\u001B[0m\n",
      "\u001B[1;32mC:\\ProgramData\\Anaconda3\\lib\\site-packages\\keras\\utils\\tf_utils.py\u001B[0m in \u001B[0;36m_to_single_numpy_or_python_type\u001B[1;34m(t)\u001B[0m\n\u001B[0;32m    599\u001B[0m     \u001B[1;31m# Don't turn ragged or sparse tensors to NumPy.\u001B[0m\u001B[1;33m\u001B[0m\u001B[1;33m\u001B[0m\u001B[1;33m\u001B[0m\u001B[0m\n\u001B[0;32m    600\u001B[0m     \u001B[1;32mif\u001B[0m \u001B[0misinstance\u001B[0m\u001B[1;33m(\u001B[0m\u001B[0mt\u001B[0m\u001B[1;33m,\u001B[0m \u001B[0mtf\u001B[0m\u001B[1;33m.\u001B[0m\u001B[0mTensor\u001B[0m\u001B[1;33m)\u001B[0m\u001B[1;33m:\u001B[0m\u001B[1;33m\u001B[0m\u001B[1;33m\u001B[0m\u001B[0m\n\u001B[1;32m--> 601\u001B[1;33m       \u001B[0mt\u001B[0m \u001B[1;33m=\u001B[0m \u001B[0mt\u001B[0m\u001B[1;33m.\u001B[0m\u001B[0mnumpy\u001B[0m\u001B[1;33m(\u001B[0m\u001B[1;33m)\u001B[0m\u001B[1;33m\u001B[0m\u001B[1;33m\u001B[0m\u001B[0m\n\u001B[0m\u001B[0;32m    602\u001B[0m     \u001B[1;31m# Strings, ragged and sparse tensors don't have .item(). Return them as-is.\u001B[0m\u001B[1;33m\u001B[0m\u001B[1;33m\u001B[0m\u001B[1;33m\u001B[0m\u001B[0m\n\u001B[0;32m    603\u001B[0m     \u001B[1;32mif\u001B[0m \u001B[1;32mnot\u001B[0m \u001B[0misinstance\u001B[0m\u001B[1;33m(\u001B[0m\u001B[0mt\u001B[0m\u001B[1;33m,\u001B[0m \u001B[1;33m(\u001B[0m\u001B[0mnp\u001B[0m\u001B[1;33m.\u001B[0m\u001B[0mndarray\u001B[0m\u001B[1;33m,\u001B[0m \u001B[0mnp\u001B[0m\u001B[1;33m.\u001B[0m\u001B[0mgeneric\u001B[0m\u001B[1;33m)\u001B[0m\u001B[1;33m)\u001B[0m\u001B[1;33m:\u001B[0m\u001B[1;33m\u001B[0m\u001B[1;33m\u001B[0m\u001B[0m\n",
      "\u001B[1;32mC:\\ProgramData\\Anaconda3\\lib\\site-packages\\tensorflow\\python\\framework\\ops.py\u001B[0m in \u001B[0;36mnumpy\u001B[1;34m(self)\u001B[0m\n\u001B[0;32m   1157\u001B[0m     \"\"\"\n\u001B[0;32m   1158\u001B[0m     \u001B[1;31m# TODO(slebedev): Consider avoiding a copy for non-CPU or remote tensors.\u001B[0m\u001B[1;33m\u001B[0m\u001B[1;33m\u001B[0m\u001B[1;33m\u001B[0m\u001B[0m\n\u001B[1;32m-> 1159\u001B[1;33m     \u001B[0mmaybe_arr\u001B[0m \u001B[1;33m=\u001B[0m \u001B[0mself\u001B[0m\u001B[1;33m.\u001B[0m\u001B[0m_numpy\u001B[0m\u001B[1;33m(\u001B[0m\u001B[1;33m)\u001B[0m  \u001B[1;31m# pylint: disable=protected-access\u001B[0m\u001B[1;33m\u001B[0m\u001B[1;33m\u001B[0m\u001B[0m\n\u001B[0m\u001B[0;32m   1160\u001B[0m     \u001B[1;32mreturn\u001B[0m \u001B[0mmaybe_arr\u001B[0m\u001B[1;33m.\u001B[0m\u001B[0mcopy\u001B[0m\u001B[1;33m(\u001B[0m\u001B[1;33m)\u001B[0m \u001B[1;32mif\u001B[0m \u001B[0misinstance\u001B[0m\u001B[1;33m(\u001B[0m\u001B[0mmaybe_arr\u001B[0m\u001B[1;33m,\u001B[0m \u001B[0mnp\u001B[0m\u001B[1;33m.\u001B[0m\u001B[0mndarray\u001B[0m\u001B[1;33m)\u001B[0m \u001B[1;32melse\u001B[0m \u001B[0mmaybe_arr\u001B[0m\u001B[1;33m\u001B[0m\u001B[1;33m\u001B[0m\u001B[0m\n\u001B[0;32m   1161\u001B[0m \u001B[1;33m\u001B[0m\u001B[0m\n",
      "\u001B[1;32mC:\\ProgramData\\Anaconda3\\lib\\site-packages\\tensorflow\\python\\framework\\ops.py\u001B[0m in \u001B[0;36m_numpy\u001B[1;34m(self)\u001B[0m\n\u001B[0;32m   1123\u001B[0m   \u001B[1;32mdef\u001B[0m \u001B[0m_numpy\u001B[0m\u001B[1;33m(\u001B[0m\u001B[0mself\u001B[0m\u001B[1;33m)\u001B[0m\u001B[1;33m:\u001B[0m\u001B[1;33m\u001B[0m\u001B[1;33m\u001B[0m\u001B[0m\n\u001B[0;32m   1124\u001B[0m     \u001B[1;32mtry\u001B[0m\u001B[1;33m:\u001B[0m\u001B[1;33m\u001B[0m\u001B[1;33m\u001B[0m\u001B[0m\n\u001B[1;32m-> 1125\u001B[1;33m       \u001B[1;32mreturn\u001B[0m \u001B[0mself\u001B[0m\u001B[1;33m.\u001B[0m\u001B[0m_numpy_internal\u001B[0m\u001B[1;33m(\u001B[0m\u001B[1;33m)\u001B[0m\u001B[1;33m\u001B[0m\u001B[1;33m\u001B[0m\u001B[0m\n\u001B[0m\u001B[0;32m   1126\u001B[0m     \u001B[1;32mexcept\u001B[0m \u001B[0mcore\u001B[0m\u001B[1;33m.\u001B[0m\u001B[0m_NotOkStatusException\u001B[0m \u001B[1;32mas\u001B[0m \u001B[0me\u001B[0m\u001B[1;33m:\u001B[0m  \u001B[1;31m# pylint: disable=protected-access\u001B[0m\u001B[1;33m\u001B[0m\u001B[1;33m\u001B[0m\u001B[0m\n\u001B[0;32m   1127\u001B[0m       \u001B[1;32mraise\u001B[0m \u001B[0mcore\u001B[0m\u001B[1;33m.\u001B[0m\u001B[0m_status_to_exception\u001B[0m\u001B[1;33m(\u001B[0m\u001B[0me\u001B[0m\u001B[1;33m)\u001B[0m \u001B[1;32mfrom\u001B[0m \u001B[1;32mNone\u001B[0m  \u001B[1;31m# pylint: disable=protected-access\u001B[0m\u001B[1;33m\u001B[0m\u001B[1;33m\u001B[0m\u001B[0m\n",
      "\u001B[1;31mKeyboardInterrupt\u001B[0m: "
     ]
    }
   ],
   "source": [
    "history = dnn_model.fit(\n",
    "    train_features,\n",
    "    train_labels,\n",
    "    validation_split=0.2,\n",
    "    verbose=1, epochs=100)"
   ],
   "metadata": {
    "collapsed": false,
    "pycharm": {
     "name": "#%%\n"
    }
   }
  },
  {
   "cell_type": "code",
   "execution_count": 12,
   "outputs": [],
   "source": [
    "early_stop = keras.callbacks.EarlyStopping(patience=5, verbose=0, restore_best_weights=True)\n",
    "activations = ['relu', 'sigmoid', 'softmax', 'softplus', 'softsign', 'tanh', 'selu', 'elu']\n",
    "\n",
    "def test_model(width, depth, activation, verbose=1):\n",
    "    with tf.device(\"GPU:0\"):\n",
    "        model = build_and_compile_model(normalizer, width, depth, activation)\n",
    "        history_return = model.fit(\n",
    "            train_features,\n",
    "            train_labels,\n",
    "            validation_split=0.2,\n",
    "            verbose=verbose, epochs=100,\n",
    "            callbacks = [early_stop]\n",
    "        )\n",
    "    return min(history_return.history['val_loss']), len(history_return.history['val_loss']), model"
   ],
   "metadata": {
    "collapsed": false,
    "pycharm": {
     "name": "#%%\n"
    }
   }
  },
  {
   "cell_type": "code",
   "execution_count": 60,
   "outputs": [
    {
     "data": {
      "text/plain": "[('relu',\n  (0.4873979687690735,\n   8,\n   <keras.engine.sequential.Sequential at 0x1dc18f95748>)),\n ('sigmoid',\n  (0.45493367314338684,\n   23,\n   <keras.engine.sequential.Sequential at 0x1da6f8999c8>)),\n ('softmax',\n  (0.452161967754364,\n   23,\n   <keras.engine.sequential.Sequential at 0x1dc0805f0c8>)),\n ('softplus',\n  (0.45976924896240234,\n   24,\n   <keras.engine.sequential.Sequential at 0x1da3e0d1488>)),\n ('softsign',\n  (0.4557131826877594,\n   16,\n   <keras.engine.sequential.Sequential at 0x1dc27d1c348>)),\n ('tanh',\n  (0.46087461709976196,\n   22,\n   <keras.engine.sequential.Sequential at 0x1da6fae0288>)),\n ('selu',\n  (0.4837348461151123,\n   18,\n   <keras.engine.sequential.Sequential at 0x1da3df6b3c8>)),\n ('elu',\n  (0.4750992953777313,\n   10,\n   <keras.engine.sequential.Sequential at 0x1dc07e7e708>)),\n ('exponential',\n  (nan, 5, <keras.engine.sequential.Sequential at 0x1dc07a9f548>))]"
     },
     "execution_count": 60,
     "metadata": {},
     "output_type": "execute_result"
    }
   ],
   "source": [
    "[(act, test_model(18, 4, act, 0)) for act in activations]"
   ],
   "metadata": {
    "collapsed": false,
    "pycharm": {
     "name": "#%%\n"
    }
   }
  },
  {
   "cell_type": "code",
   "execution_count": 13,
   "outputs": [
    {
     "name": "stdout",
     "output_type": "stream",
     "text": [
      "Epoch 1/100\n",
      "392/392 [==============================] - 3s 5ms/step - loss: 0.4784 - val_loss: 0.4872\n",
      "Epoch 2/100\n",
      "392/392 [==============================] - 2s 5ms/step - loss: 0.4784 - val_loss: 0.4872\n",
      "Epoch 3/100\n",
      "392/392 [==============================] - 2s 5ms/step - loss: 0.4784 - val_loss: 0.4872\n",
      "Epoch 4/100\n",
      "392/392 [==============================] - 2s 5ms/step - loss: 0.4784 - val_loss: 0.4872\n",
      "Epoch 5/100\n",
      " 14/392 [>.............................] - ETA: 1s - loss: 0.5312"
     ]
    },
    {
     "ename": "KeyboardInterrupt",
     "evalue": "",
     "output_type": "error",
     "traceback": [
      "\u001B[1;31m---------------------------------------------------------------------------\u001B[0m",
      "\u001B[1;31mKeyboardInterrupt\u001B[0m                         Traceback (most recent call last)",
      "\u001B[1;32m<ipython-input-13-a5d690d5ae7b>\u001B[0m in \u001B[0;36m<module>\u001B[1;34m\u001B[0m\n\u001B[0;32m      4\u001B[0m         \u001B[1;32mfor\u001B[0m \u001B[0mz\u001B[0m \u001B[1;32min\u001B[0m \u001B[1;33m[\u001B[0m\u001B[1;34m'softmax'\u001B[0m\u001B[1;33m,\u001B[0m \u001B[1;34m'sigmoid'\u001B[0m\u001B[1;33m]\u001B[0m\u001B[1;33m:\u001B[0m\u001B[1;33m\u001B[0m\u001B[1;33m\u001B[0m\u001B[0m\n\u001B[0;32m      5\u001B[0m             \u001B[0mmodes\u001B[0m\u001B[1;33m.\u001B[0m\u001B[0mappend\u001B[0m\u001B[1;33m(\u001B[0m\u001B[1;33m(\u001B[0m\u001B[0mx\u001B[0m\u001B[1;33m,\u001B[0m \u001B[0my\u001B[0m\u001B[1;33m,\u001B[0m \u001B[0mz\u001B[0m\u001B[1;33m)\u001B[0m\u001B[1;33m)\u001B[0m\u001B[1;33m\u001B[0m\u001B[1;33m\u001B[0m\u001B[0m\n\u001B[1;32m----> 6\u001B[1;33m \u001B[0mresults\u001B[0m \u001B[1;33m=\u001B[0m \u001B[1;33m[\u001B[0m\u001B[1;33m(\u001B[0m\u001B[0mmode\u001B[0m\u001B[1;33m,\u001B[0m \u001B[0mtest_model\u001B[0m\u001B[1;33m(\u001B[0m\u001B[0mmode\u001B[0m\u001B[1;33m[\u001B[0m\u001B[1;36m0\u001B[0m\u001B[1;33m]\u001B[0m\u001B[1;33m,\u001B[0m \u001B[0mmode\u001B[0m\u001B[1;33m[\u001B[0m\u001B[1;36m1\u001B[0m\u001B[1;33m]\u001B[0m\u001B[1;33m,\u001B[0m \u001B[0mmode\u001B[0m\u001B[1;33m[\u001B[0m\u001B[1;36m2\u001B[0m\u001B[1;33m]\u001B[0m\u001B[1;33m,\u001B[0m \u001B[1;36m1\u001B[0m\u001B[1;33m)\u001B[0m\u001B[1;33m)\u001B[0m \u001B[1;32mfor\u001B[0m \u001B[0mmode\u001B[0m \u001B[1;32min\u001B[0m \u001B[0mmodes\u001B[0m\u001B[1;33m]\u001B[0m\u001B[1;33m\u001B[0m\u001B[1;33m\u001B[0m\u001B[0m\n\u001B[0m\u001B[0;32m      7\u001B[0m \u001B[0mresults\u001B[0m\u001B[1;33m\u001B[0m\u001B[1;33m\u001B[0m\u001B[0m\n",
      "\u001B[1;32m<ipython-input-13-a5d690d5ae7b>\u001B[0m in \u001B[0;36m<listcomp>\u001B[1;34m(.0)\u001B[0m\n\u001B[0;32m      4\u001B[0m         \u001B[1;32mfor\u001B[0m \u001B[0mz\u001B[0m \u001B[1;32min\u001B[0m \u001B[1;33m[\u001B[0m\u001B[1;34m'softmax'\u001B[0m\u001B[1;33m,\u001B[0m \u001B[1;34m'sigmoid'\u001B[0m\u001B[1;33m]\u001B[0m\u001B[1;33m:\u001B[0m\u001B[1;33m\u001B[0m\u001B[1;33m\u001B[0m\u001B[0m\n\u001B[0;32m      5\u001B[0m             \u001B[0mmodes\u001B[0m\u001B[1;33m.\u001B[0m\u001B[0mappend\u001B[0m\u001B[1;33m(\u001B[0m\u001B[1;33m(\u001B[0m\u001B[0mx\u001B[0m\u001B[1;33m,\u001B[0m \u001B[0my\u001B[0m\u001B[1;33m,\u001B[0m \u001B[0mz\u001B[0m\u001B[1;33m)\u001B[0m\u001B[1;33m)\u001B[0m\u001B[1;33m\u001B[0m\u001B[1;33m\u001B[0m\u001B[0m\n\u001B[1;32m----> 6\u001B[1;33m \u001B[0mresults\u001B[0m \u001B[1;33m=\u001B[0m \u001B[1;33m[\u001B[0m\u001B[1;33m(\u001B[0m\u001B[0mmode\u001B[0m\u001B[1;33m,\u001B[0m \u001B[0mtest_model\u001B[0m\u001B[1;33m(\u001B[0m\u001B[0mmode\u001B[0m\u001B[1;33m[\u001B[0m\u001B[1;36m0\u001B[0m\u001B[1;33m]\u001B[0m\u001B[1;33m,\u001B[0m \u001B[0mmode\u001B[0m\u001B[1;33m[\u001B[0m\u001B[1;36m1\u001B[0m\u001B[1;33m]\u001B[0m\u001B[1;33m,\u001B[0m \u001B[0mmode\u001B[0m\u001B[1;33m[\u001B[0m\u001B[1;36m2\u001B[0m\u001B[1;33m]\u001B[0m\u001B[1;33m,\u001B[0m \u001B[1;36m1\u001B[0m\u001B[1;33m)\u001B[0m\u001B[1;33m)\u001B[0m \u001B[1;32mfor\u001B[0m \u001B[0mmode\u001B[0m \u001B[1;32min\u001B[0m \u001B[0mmodes\u001B[0m\u001B[1;33m]\u001B[0m\u001B[1;33m\u001B[0m\u001B[1;33m\u001B[0m\u001B[0m\n\u001B[0m\u001B[0;32m      7\u001B[0m \u001B[0mresults\u001B[0m\u001B[1;33m\u001B[0m\u001B[1;33m\u001B[0m\u001B[0m\n",
      "\u001B[1;32m<ipython-input-12-79105a66ca15>\u001B[0m in \u001B[0;36mtest_model\u001B[1;34m(width, depth, activation, verbose)\u001B[0m\n\u001B[0;32m     10\u001B[0m             \u001B[0mvalidation_split\u001B[0m\u001B[1;33m=\u001B[0m\u001B[1;36m0.2\u001B[0m\u001B[1;33m,\u001B[0m\u001B[1;33m\u001B[0m\u001B[1;33m\u001B[0m\u001B[0m\n\u001B[0;32m     11\u001B[0m             \u001B[0mverbose\u001B[0m\u001B[1;33m=\u001B[0m\u001B[0mverbose\u001B[0m\u001B[1;33m,\u001B[0m \u001B[0mepochs\u001B[0m\u001B[1;33m=\u001B[0m\u001B[1;36m100\u001B[0m\u001B[1;33m,\u001B[0m\u001B[1;33m\u001B[0m\u001B[1;33m\u001B[0m\u001B[0m\n\u001B[1;32m---> 12\u001B[1;33m             \u001B[0mcallbacks\u001B[0m \u001B[1;33m=\u001B[0m \u001B[1;33m[\u001B[0m\u001B[0mearly_stop\u001B[0m\u001B[1;33m]\u001B[0m\u001B[1;33m\u001B[0m\u001B[1;33m\u001B[0m\u001B[0m\n\u001B[0m\u001B[0;32m     13\u001B[0m         )\n\u001B[0;32m     14\u001B[0m     \u001B[1;32mreturn\u001B[0m \u001B[0mmin\u001B[0m\u001B[1;33m(\u001B[0m\u001B[0mhistory_return\u001B[0m\u001B[1;33m.\u001B[0m\u001B[0mhistory\u001B[0m\u001B[1;33m[\u001B[0m\u001B[1;34m'val_loss'\u001B[0m\u001B[1;33m]\u001B[0m\u001B[1;33m)\u001B[0m\u001B[1;33m,\u001B[0m \u001B[0mlen\u001B[0m\u001B[1;33m(\u001B[0m\u001B[0mhistory_return\u001B[0m\u001B[1;33m.\u001B[0m\u001B[0mhistory\u001B[0m\u001B[1;33m[\u001B[0m\u001B[1;34m'val_loss'\u001B[0m\u001B[1;33m]\u001B[0m\u001B[1;33m)\u001B[0m\u001B[1;33m,\u001B[0m \u001B[0mmodel\u001B[0m\u001B[1;33m\u001B[0m\u001B[1;33m\u001B[0m\u001B[0m\n",
      "\u001B[1;32mC:\\ProgramData\\Anaconda3\\lib\\site-packages\\keras\\utils\\traceback_utils.py\u001B[0m in \u001B[0;36merror_handler\u001B[1;34m(*args, **kwargs)\u001B[0m\n\u001B[0;32m     62\u001B[0m     \u001B[0mfiltered_tb\u001B[0m \u001B[1;33m=\u001B[0m \u001B[1;32mNone\u001B[0m\u001B[1;33m\u001B[0m\u001B[1;33m\u001B[0m\u001B[0m\n\u001B[0;32m     63\u001B[0m     \u001B[1;32mtry\u001B[0m\u001B[1;33m:\u001B[0m\u001B[1;33m\u001B[0m\u001B[1;33m\u001B[0m\u001B[0m\n\u001B[1;32m---> 64\u001B[1;33m       \u001B[1;32mreturn\u001B[0m \u001B[0mfn\u001B[0m\u001B[1;33m(\u001B[0m\u001B[1;33m*\u001B[0m\u001B[0margs\u001B[0m\u001B[1;33m,\u001B[0m \u001B[1;33m**\u001B[0m\u001B[0mkwargs\u001B[0m\u001B[1;33m)\u001B[0m\u001B[1;33m\u001B[0m\u001B[1;33m\u001B[0m\u001B[0m\n\u001B[0m\u001B[0;32m     65\u001B[0m     \u001B[1;32mexcept\u001B[0m \u001B[0mException\u001B[0m \u001B[1;32mas\u001B[0m \u001B[0me\u001B[0m\u001B[1;33m:\u001B[0m  \u001B[1;31m# pylint: disable=broad-except\u001B[0m\u001B[1;33m\u001B[0m\u001B[1;33m\u001B[0m\u001B[0m\n\u001B[0;32m     66\u001B[0m       \u001B[0mfiltered_tb\u001B[0m \u001B[1;33m=\u001B[0m \u001B[0m_process_traceback_frames\u001B[0m\u001B[1;33m(\u001B[0m\u001B[0me\u001B[0m\u001B[1;33m.\u001B[0m\u001B[0m__traceback__\u001B[0m\u001B[1;33m)\u001B[0m\u001B[1;33m\u001B[0m\u001B[1;33m\u001B[0m\u001B[0m\n",
      "\u001B[1;32mC:\\ProgramData\\Anaconda3\\lib\\site-packages\\keras\\engine\\training.py\u001B[0m in \u001B[0;36mfit\u001B[1;34m(self, x, y, batch_size, epochs, verbose, callbacks, validation_split, validation_data, shuffle, class_weight, sample_weight, initial_epoch, steps_per_epoch, validation_steps, validation_batch_size, validation_freq, max_queue_size, workers, use_multiprocessing)\u001B[0m\n\u001B[0;32m   1407\u001B[0m                 _r=1):\n\u001B[0;32m   1408\u001B[0m               \u001B[0mcallbacks\u001B[0m\u001B[1;33m.\u001B[0m\u001B[0mon_train_batch_begin\u001B[0m\u001B[1;33m(\u001B[0m\u001B[0mstep\u001B[0m\u001B[1;33m)\u001B[0m\u001B[1;33m\u001B[0m\u001B[1;33m\u001B[0m\u001B[0m\n\u001B[1;32m-> 1409\u001B[1;33m               \u001B[0mtmp_logs\u001B[0m \u001B[1;33m=\u001B[0m \u001B[0mself\u001B[0m\u001B[1;33m.\u001B[0m\u001B[0mtrain_function\u001B[0m\u001B[1;33m(\u001B[0m\u001B[0miterator\u001B[0m\u001B[1;33m)\u001B[0m\u001B[1;33m\u001B[0m\u001B[1;33m\u001B[0m\u001B[0m\n\u001B[0m\u001B[0;32m   1410\u001B[0m               \u001B[1;32mif\u001B[0m \u001B[0mdata_handler\u001B[0m\u001B[1;33m.\u001B[0m\u001B[0mshould_sync\u001B[0m\u001B[1;33m:\u001B[0m\u001B[1;33m\u001B[0m\u001B[1;33m\u001B[0m\u001B[0m\n\u001B[0;32m   1411\u001B[0m                 \u001B[0mcontext\u001B[0m\u001B[1;33m.\u001B[0m\u001B[0masync_wait\u001B[0m\u001B[1;33m(\u001B[0m\u001B[1;33m)\u001B[0m\u001B[1;33m\u001B[0m\u001B[1;33m\u001B[0m\u001B[0m\n",
      "\u001B[1;32mC:\\ProgramData\\Anaconda3\\lib\\site-packages\\tensorflow\\python\\util\\traceback_utils.py\u001B[0m in \u001B[0;36merror_handler\u001B[1;34m(*args, **kwargs)\u001B[0m\n\u001B[0;32m    148\u001B[0m     \u001B[0mfiltered_tb\u001B[0m \u001B[1;33m=\u001B[0m \u001B[1;32mNone\u001B[0m\u001B[1;33m\u001B[0m\u001B[1;33m\u001B[0m\u001B[0m\n\u001B[0;32m    149\u001B[0m     \u001B[1;32mtry\u001B[0m\u001B[1;33m:\u001B[0m\u001B[1;33m\u001B[0m\u001B[1;33m\u001B[0m\u001B[0m\n\u001B[1;32m--> 150\u001B[1;33m       \u001B[1;32mreturn\u001B[0m \u001B[0mfn\u001B[0m\u001B[1;33m(\u001B[0m\u001B[1;33m*\u001B[0m\u001B[0margs\u001B[0m\u001B[1;33m,\u001B[0m \u001B[1;33m**\u001B[0m\u001B[0mkwargs\u001B[0m\u001B[1;33m)\u001B[0m\u001B[1;33m\u001B[0m\u001B[1;33m\u001B[0m\u001B[0m\n\u001B[0m\u001B[0;32m    151\u001B[0m     \u001B[1;32mexcept\u001B[0m \u001B[0mException\u001B[0m \u001B[1;32mas\u001B[0m \u001B[0me\u001B[0m\u001B[1;33m:\u001B[0m\u001B[1;33m\u001B[0m\u001B[1;33m\u001B[0m\u001B[0m\n\u001B[0;32m    152\u001B[0m       \u001B[0mfiltered_tb\u001B[0m \u001B[1;33m=\u001B[0m \u001B[0m_process_traceback_frames\u001B[0m\u001B[1;33m(\u001B[0m\u001B[0me\u001B[0m\u001B[1;33m.\u001B[0m\u001B[0m__traceback__\u001B[0m\u001B[1;33m)\u001B[0m\u001B[1;33m\u001B[0m\u001B[1;33m\u001B[0m\u001B[0m\n",
      "\u001B[1;32mC:\\ProgramData\\Anaconda3\\lib\\site-packages\\tensorflow\\python\\eager\\def_function.py\u001B[0m in \u001B[0;36m__call__\u001B[1;34m(self, *args, **kwds)\u001B[0m\n\u001B[0;32m    913\u001B[0m \u001B[1;33m\u001B[0m\u001B[0m\n\u001B[0;32m    914\u001B[0m       \u001B[1;32mwith\u001B[0m \u001B[0mOptionalXlaContext\u001B[0m\u001B[1;33m(\u001B[0m\u001B[0mself\u001B[0m\u001B[1;33m.\u001B[0m\u001B[0m_jit_compile\u001B[0m\u001B[1;33m)\u001B[0m\u001B[1;33m:\u001B[0m\u001B[1;33m\u001B[0m\u001B[1;33m\u001B[0m\u001B[0m\n\u001B[1;32m--> 915\u001B[1;33m         \u001B[0mresult\u001B[0m \u001B[1;33m=\u001B[0m \u001B[0mself\u001B[0m\u001B[1;33m.\u001B[0m\u001B[0m_call\u001B[0m\u001B[1;33m(\u001B[0m\u001B[1;33m*\u001B[0m\u001B[0margs\u001B[0m\u001B[1;33m,\u001B[0m \u001B[1;33m**\u001B[0m\u001B[0mkwds\u001B[0m\u001B[1;33m)\u001B[0m\u001B[1;33m\u001B[0m\u001B[1;33m\u001B[0m\u001B[0m\n\u001B[0m\u001B[0;32m    916\u001B[0m \u001B[1;33m\u001B[0m\u001B[0m\n\u001B[0;32m    917\u001B[0m       \u001B[0mnew_tracing_count\u001B[0m \u001B[1;33m=\u001B[0m \u001B[0mself\u001B[0m\u001B[1;33m.\u001B[0m\u001B[0mexperimental_get_tracing_count\u001B[0m\u001B[1;33m(\u001B[0m\u001B[1;33m)\u001B[0m\u001B[1;33m\u001B[0m\u001B[1;33m\u001B[0m\u001B[0m\n",
      "\u001B[1;32mC:\\ProgramData\\Anaconda3\\lib\\site-packages\\tensorflow\\python\\eager\\def_function.py\u001B[0m in \u001B[0;36m_call\u001B[1;34m(self, *args, **kwds)\u001B[0m\n\u001B[0;32m    945\u001B[0m       \u001B[1;31m# In this case we have created variables on the first call, so we run the\u001B[0m\u001B[1;33m\u001B[0m\u001B[1;33m\u001B[0m\u001B[1;33m\u001B[0m\u001B[0m\n\u001B[0;32m    946\u001B[0m       \u001B[1;31m# defunned version which is guaranteed to never create variables.\u001B[0m\u001B[1;33m\u001B[0m\u001B[1;33m\u001B[0m\u001B[1;33m\u001B[0m\u001B[0m\n\u001B[1;32m--> 947\u001B[1;33m       \u001B[1;32mreturn\u001B[0m \u001B[0mself\u001B[0m\u001B[1;33m.\u001B[0m\u001B[0m_stateless_fn\u001B[0m\u001B[1;33m(\u001B[0m\u001B[1;33m*\u001B[0m\u001B[0margs\u001B[0m\u001B[1;33m,\u001B[0m \u001B[1;33m**\u001B[0m\u001B[0mkwds\u001B[0m\u001B[1;33m)\u001B[0m  \u001B[1;31m# pylint: disable=not-callable\u001B[0m\u001B[1;33m\u001B[0m\u001B[1;33m\u001B[0m\u001B[0m\n\u001B[0m\u001B[0;32m    948\u001B[0m     \u001B[1;32melif\u001B[0m \u001B[0mself\u001B[0m\u001B[1;33m.\u001B[0m\u001B[0m_stateful_fn\u001B[0m \u001B[1;32mis\u001B[0m \u001B[1;32mnot\u001B[0m \u001B[1;32mNone\u001B[0m\u001B[1;33m:\u001B[0m\u001B[1;33m\u001B[0m\u001B[1;33m\u001B[0m\u001B[0m\n\u001B[0;32m    949\u001B[0m       \u001B[1;31m# Release the lock early so that multiple threads can perform the call\u001B[0m\u001B[1;33m\u001B[0m\u001B[1;33m\u001B[0m\u001B[1;33m\u001B[0m\u001B[0m\n",
      "\u001B[1;32mC:\\ProgramData\\Anaconda3\\lib\\site-packages\\tensorflow\\python\\eager\\function.py\u001B[0m in \u001B[0;36m__call__\u001B[1;34m(self, *args, **kwargs)\u001B[0m\n\u001B[0;32m   2452\u001B[0m        filtered_flat_args) = self._maybe_define_function(args, kwargs)\n\u001B[0;32m   2453\u001B[0m     return graph_function._call_flat(\n\u001B[1;32m-> 2454\u001B[1;33m         filtered_flat_args, captured_inputs=graph_function.captured_inputs)  # pylint: disable=protected-access\n\u001B[0m\u001B[0;32m   2455\u001B[0m \u001B[1;33m\u001B[0m\u001B[0m\n\u001B[0;32m   2456\u001B[0m   \u001B[1;33m@\u001B[0m\u001B[0mproperty\u001B[0m\u001B[1;33m\u001B[0m\u001B[1;33m\u001B[0m\u001B[0m\n",
      "\u001B[1;32mC:\\ProgramData\\Anaconda3\\lib\\site-packages\\tensorflow\\python\\eager\\function.py\u001B[0m in \u001B[0;36m_call_flat\u001B[1;34m(self, args, captured_inputs, cancellation_manager)\u001B[0m\n\u001B[0;32m   1859\u001B[0m       \u001B[1;31m# No tape is watching; skip to running the function.\u001B[0m\u001B[1;33m\u001B[0m\u001B[1;33m\u001B[0m\u001B[1;33m\u001B[0m\u001B[0m\n\u001B[0;32m   1860\u001B[0m       return self._build_call_outputs(self._inference_function.call(\n\u001B[1;32m-> 1861\u001B[1;33m           ctx, args, cancellation_manager=cancellation_manager))\n\u001B[0m\u001B[0;32m   1862\u001B[0m     forward_backward = self._select_forward_and_backward_functions(\n\u001B[0;32m   1863\u001B[0m         \u001B[0margs\u001B[0m\u001B[1;33m,\u001B[0m\u001B[1;33m\u001B[0m\u001B[1;33m\u001B[0m\u001B[0m\n",
      "\u001B[1;32mC:\\ProgramData\\Anaconda3\\lib\\site-packages\\tensorflow\\python\\eager\\function.py\u001B[0m in \u001B[0;36mcall\u001B[1;34m(self, ctx, args, cancellation_manager)\u001B[0m\n\u001B[0;32m    500\u001B[0m               \u001B[0minputs\u001B[0m\u001B[1;33m=\u001B[0m\u001B[0margs\u001B[0m\u001B[1;33m,\u001B[0m\u001B[1;33m\u001B[0m\u001B[1;33m\u001B[0m\u001B[0m\n\u001B[0;32m    501\u001B[0m               \u001B[0mattrs\u001B[0m\u001B[1;33m=\u001B[0m\u001B[0mattrs\u001B[0m\u001B[1;33m,\u001B[0m\u001B[1;33m\u001B[0m\u001B[1;33m\u001B[0m\u001B[0m\n\u001B[1;32m--> 502\u001B[1;33m               ctx=ctx)\n\u001B[0m\u001B[0;32m    503\u001B[0m         \u001B[1;32melse\u001B[0m\u001B[1;33m:\u001B[0m\u001B[1;33m\u001B[0m\u001B[1;33m\u001B[0m\u001B[0m\n\u001B[0;32m    504\u001B[0m           outputs = execute.execute_with_cancellation(\n",
      "\u001B[1;32mC:\\ProgramData\\Anaconda3\\lib\\site-packages\\tensorflow\\python\\eager\\execute.py\u001B[0m in \u001B[0;36mquick_execute\u001B[1;34m(op_name, num_outputs, inputs, attrs, ctx, name)\u001B[0m\n\u001B[0;32m     53\u001B[0m     \u001B[0mctx\u001B[0m\u001B[1;33m.\u001B[0m\u001B[0mensure_initialized\u001B[0m\u001B[1;33m(\u001B[0m\u001B[1;33m)\u001B[0m\u001B[1;33m\u001B[0m\u001B[1;33m\u001B[0m\u001B[0m\n\u001B[0;32m     54\u001B[0m     tensors = pywrap_tfe.TFE_Py_Execute(ctx._handle, device_name, op_name,\n\u001B[1;32m---> 55\u001B[1;33m                                         inputs, attrs, num_outputs)\n\u001B[0m\u001B[0;32m     56\u001B[0m   \u001B[1;32mexcept\u001B[0m \u001B[0mcore\u001B[0m\u001B[1;33m.\u001B[0m\u001B[0m_NotOkStatusException\u001B[0m \u001B[1;32mas\u001B[0m \u001B[0me\u001B[0m\u001B[1;33m:\u001B[0m\u001B[1;33m\u001B[0m\u001B[1;33m\u001B[0m\u001B[0m\n\u001B[0;32m     57\u001B[0m     \u001B[1;32mif\u001B[0m \u001B[0mname\u001B[0m \u001B[1;32mis\u001B[0m \u001B[1;32mnot\u001B[0m \u001B[1;32mNone\u001B[0m\u001B[1;33m:\u001B[0m\u001B[1;33m\u001B[0m\u001B[1;33m\u001B[0m\u001B[0m\n",
      "\u001B[1;31mKeyboardInterrupt\u001B[0m: "
     ]
    }
   ],
   "source": [
    "modes = []\n",
    "for x in [18, 35, 70, 140]:\n",
    "    for y in [1, 2, 3, 4, 5, 6]:\n",
    "        for z in ['softmax', 'sigmoid']:\n",
    "            modes.append((x, y, z))\n",
    "results = [(mode, test_model(mode[0], mode[1], mode[2], 1)) for mode in modes]\n",
    "results"
   ],
   "metadata": {
    "collapsed": false,
    "pycharm": {
     "name": "#%%\n"
    }
   }
  },
  {
   "cell_type": "code",
   "execution_count": null,
   "outputs": [],
   "source": [
    "[(x[0], x[1][0]) for x in sorted(results, key=lambda x: x[1][0])]"
   ],
   "metadata": {
    "collapsed": false,
    "pycharm": {
     "name": "#%%\n"
    }
   }
  },
  {
   "cell_type": "code",
   "execution_count": 14,
   "outputs": [
    {
     "name": "stdout",
     "output_type": "stream",
     "text": [
      "Epoch 1/100\n",
      "392/392 [==============================] - 3s 6ms/step - loss: 0.4784 - val_loss: 0.4872\n",
      "Epoch 2/100\n",
      "392/392 [==============================] - 2s 6ms/step - loss: 0.4784 - val_loss: 0.4872\n",
      "Epoch 3/100\n",
      "392/392 [==============================] - 2s 6ms/step - loss: 0.4784 - val_loss: 0.4872\n",
      "Epoch 4/100\n",
      "392/392 [==============================] - 2s 6ms/step - loss: 0.4784 - val_loss: 0.4872\n",
      "Epoch 5/100\n",
      "392/392 [==============================] - 2s 6ms/step - loss: 0.4784 - val_loss: 0.4872\n",
      "Epoch 6/100\n",
      "392/392 [==============================] - 2s 6ms/step - loss: 0.4784 - val_loss: 0.4872\n"
     ]
    },
    {
     "data": {
      "text/plain": "(0.4872449040412903, 6, <keras.engine.sequential.Sequential at 0x20b11e66148>)"
     },
     "execution_count": 14,
     "metadata": {},
     "output_type": "execute_result"
    }
   ],
   "source": [
    "m = test_model(288, 2, 'softmax')\n",
    "m"
   ],
   "metadata": {
    "collapsed": false,
    "pycharm": {
     "name": "#%%\n"
    }
   }
  },
  {
   "cell_type": "code",
   "execution_count": 16,
   "outputs": [
    {
     "name": "stdout",
     "output_type": "stream",
     "text": [
      "Model: \"sequential_1\"\n",
      "_________________________________________________________________\n",
      " Layer (type)                Output Shape              Param #   \n",
      "=================================================================\n",
      " normalization (Normalizatio  (None, 70)               141       \n",
      " n)                                                              \n",
      "                                                                 \n",
      " dense_2 (Dense)             (None, 288)               20448     \n",
      "                                                                 \n",
      " dense_3 (Dense)             (None, 288)               83232     \n",
      "                                                                 \n",
      " dense_4 (Dense)             (None, 1)                 289       \n",
      "                                                                 \n",
      "=================================================================\n",
      "Total params: 104,110\n",
      "Trainable params: 103,969\n",
      "Non-trainable params: 141\n",
      "_________________________________________________________________\n"
     ]
    }
   ],
   "source": [
    "m[2].summary()"
   ],
   "metadata": {
    "collapsed": false,
    "pycharm": {
     "name": "#%%\n"
    }
   }
  },
  {
   "cell_type": "markdown",
   "source": [],
   "metadata": {
    "collapsed": false,
    "pycharm": {
     "name": "#%% md\n"
    }
   }
  }
 ],
 "metadata": {
  "kernelspec": {
   "display_name": "Python 3",
   "language": "python",
   "name": "python3"
  },
  "language_info": {
   "codemirror_mode": {
    "name": "ipython",
    "version": 2
   },
   "file_extension": ".py",
   "mimetype": "text/x-python",
   "name": "python",
   "nbconvert_exporter": "python",
   "pygments_lexer": "ipython2",
   "version": "2.7.6"
  }
 },
 "nbformat": 4,
 "nbformat_minor": 0
}